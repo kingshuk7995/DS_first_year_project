{
 "cells": [
  {
   "cell_type": "markdown",
   "id": "5338bf5c",
   "metadata": {},
   "source": [
    "## In this file we are going to analyse the data we can collect for a single user and consider what things we can do with that"
   ]
  },
  {
   "cell_type": "code",
   "execution_count": 97,
   "id": "b3a128c4",
   "metadata": {},
   "outputs": [],
   "source": [
    "import requests\n",
    "import pandas as pd\n",
    "import json"
   ]
  },
  {
   "cell_type": "markdown",
   "id": "a998edc1",
   "metadata": {},
   "source": [
    "# Goal\n",
    "#### Feature extraction\n",
    "##### By the end we need a function which we would apply on the users we get in the all_users.csv to generate our required data"
   ]
  },
  {
   "cell_type": "markdown",
   "id": "0f36c2cf",
   "metadata": {},
   "source": [
    "#### Using a single user with Id kingshukpatra11"
   ]
  },
  {
   "cell_type": "code",
   "execution_count": 98,
   "id": "d709fb31",
   "metadata": {},
   "outputs": [],
   "source": [
    "user = \"kingshukpatra11\""
   ]
  },
  {
   "cell_type": "markdown",
   "id": "95702b31",
   "metadata": {},
   "source": [
    "#### Calling the API to get contest info and the problems solved info"
   ]
  },
  {
   "cell_type": "markdown",
   "id": "1c3bafec",
   "metadata": {},
   "source": [
    "##### Contest history"
   ]
  },
  {
   "cell_type": "code",
   "execution_count": 99,
   "id": "0b0c8bce",
   "metadata": {},
   "outputs": [
    {
     "data": {
      "text/plain": [
       "'OK'"
      ]
     },
     "execution_count": 99,
     "metadata": {},
     "output_type": "execute_result"
    }
   ],
   "source": [
    "response_contest_data = requests.get(\"https://codeforces.com/api/user.rating?handle=kingshukpatra11\").json()\n",
    "response_contest_data['status']"
   ]
  },
  {
   "cell_type": "code",
   "execution_count": 100,
   "id": "befa52f0",
   "metadata": {},
   "outputs": [
    {
     "data": {
      "application/vnd.microsoft.datawrangler.viewer.v0+json": {
       "columns": [
        {
         "name": "index",
         "rawType": "int64",
         "type": "integer"
        },
        {
         "name": "contestId",
         "rawType": "int64",
         "type": "integer"
        },
        {
         "name": "contestName",
         "rawType": "object",
         "type": "string"
        },
        {
         "name": "handle",
         "rawType": "object",
         "type": "string"
        },
        {
         "name": "rank",
         "rawType": "int64",
         "type": "integer"
        },
        {
         "name": "ratingUpdateTimeSeconds",
         "rawType": "int64",
         "type": "integer"
        },
        {
         "name": "oldRating",
         "rawType": "int64",
         "type": "integer"
        },
        {
         "name": "newRating",
         "rawType": "int64",
         "type": "integer"
        }
       ],
       "conversionMethod": "pd.DataFrame",
       "ref": "4ca89329-c30e-4330-837f-af444a50d043",
       "rows": [
        [
         "0",
         "2070",
         "Educational Codeforces Round 175 (Rated for Div. 2)",
         "kingshukpatra11",
         "4024",
         "1740674100",
         "0",
         "511"
        ],
        [
         "1",
         "2071",
         "Codeforces Round 1007 (Div. 2)",
         "kingshukpatra11",
         "6753",
         "1740761400",
         "511",
         "820"
        ],
        [
         "2",
         "2078",
         "Codeforces Round 1008 (Div. 2)",
         "kingshukpatra11",
         "6913",
         "1741626900",
         "820",
         "1027"
        ],
        [
         "3",
         "2074",
         "Codeforces Round 1009 (Div. 3)",
         "kingshukpatra11",
         "1589",
         "1741712700",
         "1027",
         "1250"
        ],
        [
         "4",
         "2075",
         "Educational Codeforces Round 176 (Rated for Div. 2)",
         "kingshukpatra11",
         "1076",
         "1742229300",
         "1250",
         "1473"
        ],
        [
         "5",
         "2091",
         "Codeforces Round 1013 (Div. 3)",
         "kingshukpatra11",
         "1692",
         "1742921400",
         "1473",
         "1537"
        ]
       ],
       "shape": {
        "columns": 7,
        "rows": 6
       }
      },
      "text/html": [
       "<div>\n",
       "<style scoped>\n",
       "    .dataframe tbody tr th:only-of-type {\n",
       "        vertical-align: middle;\n",
       "    }\n",
       "\n",
       "    .dataframe tbody tr th {\n",
       "        vertical-align: top;\n",
       "    }\n",
       "\n",
       "    .dataframe thead th {\n",
       "        text-align: right;\n",
       "    }\n",
       "</style>\n",
       "<table border=\"1\" class=\"dataframe\">\n",
       "  <thead>\n",
       "    <tr style=\"text-align: right;\">\n",
       "      <th></th>\n",
       "      <th>contestId</th>\n",
       "      <th>contestName</th>\n",
       "      <th>handle</th>\n",
       "      <th>rank</th>\n",
       "      <th>ratingUpdateTimeSeconds</th>\n",
       "      <th>oldRating</th>\n",
       "      <th>newRating</th>\n",
       "    </tr>\n",
       "  </thead>\n",
       "  <tbody>\n",
       "    <tr>\n",
       "      <th>0</th>\n",
       "      <td>2070</td>\n",
       "      <td>Educational Codeforces Round 175 (Rated for Di...</td>\n",
       "      <td>kingshukpatra11</td>\n",
       "      <td>4024</td>\n",
       "      <td>1740674100</td>\n",
       "      <td>0</td>\n",
       "      <td>511</td>\n",
       "    </tr>\n",
       "    <tr>\n",
       "      <th>1</th>\n",
       "      <td>2071</td>\n",
       "      <td>Codeforces Round 1007 (Div. 2)</td>\n",
       "      <td>kingshukpatra11</td>\n",
       "      <td>6753</td>\n",
       "      <td>1740761400</td>\n",
       "      <td>511</td>\n",
       "      <td>820</td>\n",
       "    </tr>\n",
       "    <tr>\n",
       "      <th>2</th>\n",
       "      <td>2078</td>\n",
       "      <td>Codeforces Round 1008 (Div. 2)</td>\n",
       "      <td>kingshukpatra11</td>\n",
       "      <td>6913</td>\n",
       "      <td>1741626900</td>\n",
       "      <td>820</td>\n",
       "      <td>1027</td>\n",
       "    </tr>\n",
       "    <tr>\n",
       "      <th>3</th>\n",
       "      <td>2074</td>\n",
       "      <td>Codeforces Round 1009 (Div. 3)</td>\n",
       "      <td>kingshukpatra11</td>\n",
       "      <td>1589</td>\n",
       "      <td>1741712700</td>\n",
       "      <td>1027</td>\n",
       "      <td>1250</td>\n",
       "    </tr>\n",
       "    <tr>\n",
       "      <th>4</th>\n",
       "      <td>2075</td>\n",
       "      <td>Educational Codeforces Round 176 (Rated for Di...</td>\n",
       "      <td>kingshukpatra11</td>\n",
       "      <td>1076</td>\n",
       "      <td>1742229300</td>\n",
       "      <td>1250</td>\n",
       "      <td>1473</td>\n",
       "    </tr>\n",
       "    <tr>\n",
       "      <th>5</th>\n",
       "      <td>2091</td>\n",
       "      <td>Codeforces Round 1013 (Div. 3)</td>\n",
       "      <td>kingshukpatra11</td>\n",
       "      <td>1692</td>\n",
       "      <td>1742921400</td>\n",
       "      <td>1473</td>\n",
       "      <td>1537</td>\n",
       "    </tr>\n",
       "  </tbody>\n",
       "</table>\n",
       "</div>"
      ],
      "text/plain": [
       "   contestId                                        contestName  \\\n",
       "0       2070  Educational Codeforces Round 175 (Rated for Di...   \n",
       "1       2071                     Codeforces Round 1007 (Div. 2)   \n",
       "2       2078                     Codeforces Round 1008 (Div. 2)   \n",
       "3       2074                     Codeforces Round 1009 (Div. 3)   \n",
       "4       2075  Educational Codeforces Round 176 (Rated for Di...   \n",
       "5       2091                     Codeforces Round 1013 (Div. 3)   \n",
       "\n",
       "            handle  rank  ratingUpdateTimeSeconds  oldRating  newRating  \n",
       "0  kingshukpatra11  4024               1740674100          0        511  \n",
       "1  kingshukpatra11  6753               1740761400        511        820  \n",
       "2  kingshukpatra11  6913               1741626900        820       1027  \n",
       "3  kingshukpatra11  1589               1741712700       1027       1250  \n",
       "4  kingshukpatra11  1076               1742229300       1250       1473  \n",
       "5  kingshukpatra11  1692               1742921400       1473       1537  "
      ]
     },
     "execution_count": 100,
     "metadata": {},
     "output_type": "execute_result"
    }
   ],
   "source": [
    "contest_data = pd.DataFrame(response_contest_data['result'])\n",
    "contest_data"
   ]
  },
  {
   "cell_type": "markdown",
   "id": "35d84258",
   "metadata": {},
   "source": [
    "#### What the column means\n",
    "#### So we need to determine the useful and useless columns\n",
    "##### ratingUpdateTimeSeconds -> The time when ratings were updated which is useless for our purpose\n",
    "##### clearly contestName is value-less in presence of contestId"
   ]
  },
  {
   "cell_type": "code",
   "execution_count": 101,
   "id": "c6466937",
   "metadata": {},
   "outputs": [
    {
     "data": {
      "application/vnd.microsoft.datawrangler.viewer.v0+json": {
       "columns": [
        {
         "name": "index",
         "rawType": "int64",
         "type": "integer"
        },
        {
         "name": "contestId",
         "rawType": "int64",
         "type": "integer"
        },
        {
         "name": "handle",
         "rawType": "object",
         "type": "string"
        },
        {
         "name": "rank",
         "rawType": "int64",
         "type": "integer"
        },
        {
         "name": "oldRating",
         "rawType": "int64",
         "type": "integer"
        },
        {
         "name": "newRating",
         "rawType": "int64",
         "type": "integer"
        }
       ],
       "conversionMethod": "pd.DataFrame",
       "ref": "bd8aabad-80ad-4305-ac6e-3817e72d20de",
       "rows": [
        [
         "0",
         "2070",
         "kingshukpatra11",
         "4024",
         "0",
         "511"
        ],
        [
         "1",
         "2071",
         "kingshukpatra11",
         "6753",
         "511",
         "820"
        ],
        [
         "2",
         "2078",
         "kingshukpatra11",
         "6913",
         "820",
         "1027"
        ],
        [
         "3",
         "2074",
         "kingshukpatra11",
         "1589",
         "1027",
         "1250"
        ],
        [
         "4",
         "2075",
         "kingshukpatra11",
         "1076",
         "1250",
         "1473"
        ],
        [
         "5",
         "2091",
         "kingshukpatra11",
         "1692",
         "1473",
         "1537"
        ]
       ],
       "shape": {
        "columns": 5,
        "rows": 6
       }
      },
      "text/html": [
       "<div>\n",
       "<style scoped>\n",
       "    .dataframe tbody tr th:only-of-type {\n",
       "        vertical-align: middle;\n",
       "    }\n",
       "\n",
       "    .dataframe tbody tr th {\n",
       "        vertical-align: top;\n",
       "    }\n",
       "\n",
       "    .dataframe thead th {\n",
       "        text-align: right;\n",
       "    }\n",
       "</style>\n",
       "<table border=\"1\" class=\"dataframe\">\n",
       "  <thead>\n",
       "    <tr style=\"text-align: right;\">\n",
       "      <th></th>\n",
       "      <th>contestId</th>\n",
       "      <th>handle</th>\n",
       "      <th>rank</th>\n",
       "      <th>oldRating</th>\n",
       "      <th>newRating</th>\n",
       "    </tr>\n",
       "  </thead>\n",
       "  <tbody>\n",
       "    <tr>\n",
       "      <th>0</th>\n",
       "      <td>2070</td>\n",
       "      <td>kingshukpatra11</td>\n",
       "      <td>4024</td>\n",
       "      <td>0</td>\n",
       "      <td>511</td>\n",
       "    </tr>\n",
       "    <tr>\n",
       "      <th>1</th>\n",
       "      <td>2071</td>\n",
       "      <td>kingshukpatra11</td>\n",
       "      <td>6753</td>\n",
       "      <td>511</td>\n",
       "      <td>820</td>\n",
       "    </tr>\n",
       "    <tr>\n",
       "      <th>2</th>\n",
       "      <td>2078</td>\n",
       "      <td>kingshukpatra11</td>\n",
       "      <td>6913</td>\n",
       "      <td>820</td>\n",
       "      <td>1027</td>\n",
       "    </tr>\n",
       "    <tr>\n",
       "      <th>3</th>\n",
       "      <td>2074</td>\n",
       "      <td>kingshukpatra11</td>\n",
       "      <td>1589</td>\n",
       "      <td>1027</td>\n",
       "      <td>1250</td>\n",
       "    </tr>\n",
       "    <tr>\n",
       "      <th>4</th>\n",
       "      <td>2075</td>\n",
       "      <td>kingshukpatra11</td>\n",
       "      <td>1076</td>\n",
       "      <td>1250</td>\n",
       "      <td>1473</td>\n",
       "    </tr>\n",
       "    <tr>\n",
       "      <th>5</th>\n",
       "      <td>2091</td>\n",
       "      <td>kingshukpatra11</td>\n",
       "      <td>1692</td>\n",
       "      <td>1473</td>\n",
       "      <td>1537</td>\n",
       "    </tr>\n",
       "  </tbody>\n",
       "</table>\n",
       "</div>"
      ],
      "text/plain": [
       "   contestId           handle  rank  oldRating  newRating\n",
       "0       2070  kingshukpatra11  4024          0        511\n",
       "1       2071  kingshukpatra11  6753        511        820\n",
       "2       2078  kingshukpatra11  6913        820       1027\n",
       "3       2074  kingshukpatra11  1589       1027       1250\n",
       "4       2075  kingshukpatra11  1076       1250       1473\n",
       "5       2091  kingshukpatra11  1692       1473       1537"
      ]
     },
     "execution_count": 101,
     "metadata": {},
     "output_type": "execute_result"
    }
   ],
   "source": [
    "contest_data.drop(columns=['contestName','ratingUpdateTimeSeconds'],inplace=True)\n",
    "contest_data"
   ]
  },
  {
   "cell_type": "code",
   "execution_count": 102,
   "id": "be695f24",
   "metadata": {},
   "outputs": [
    {
     "data": {
      "text/plain": [
       "'OK'"
      ]
     },
     "execution_count": 102,
     "metadata": {},
     "output_type": "execute_result"
    }
   ],
   "source": [
    "response_submission_data = requests.get(\"https://codeforces.com/api/user.status?handle=kingshukpatra11\").json()\n",
    "response_submission_data['status']"
   ]
  },
  {
   "cell_type": "code",
   "execution_count": 103,
   "id": "69a5abdc",
   "metadata": {},
   "outputs": [
    {
     "data": {
      "application/vnd.microsoft.datawrangler.viewer.v0+json": {
       "columns": [
        {
         "name": "index",
         "rawType": "int64",
         "type": "integer"
        },
        {
         "name": "id",
         "rawType": "int64",
         "type": "integer"
        },
        {
         "name": "contestId",
         "rawType": "int64",
         "type": "integer"
        },
        {
         "name": "creationTimeSeconds",
         "rawType": "int64",
         "type": "integer"
        },
        {
         "name": "relativeTimeSeconds",
         "rawType": "int64",
         "type": "integer"
        },
        {
         "name": "problem",
         "rawType": "object",
         "type": "unknown"
        },
        {
         "name": "author",
         "rawType": "object",
         "type": "unknown"
        },
        {
         "name": "programmingLanguage",
         "rawType": "object",
         "type": "string"
        },
        {
         "name": "verdict",
         "rawType": "object",
         "type": "string"
        },
        {
         "name": "testset",
         "rawType": "object",
         "type": "string"
        },
        {
         "name": "passedTestCount",
         "rawType": "int64",
         "type": "integer"
        },
        {
         "name": "timeConsumedMillis",
         "rawType": "int64",
         "type": "integer"
        },
        {
         "name": "memoryConsumedBytes",
         "rawType": "int64",
         "type": "integer"
        }
       ],
       "conversionMethod": "pd.DataFrame",
       "ref": "9a0498cb-12ed-478d-8d5a-71255c9defa7",
       "rows": [
        [
         "0",
         "313132413",
         "2092",
         "1743340536",
         "2147483647",
         "{'contestId': 2092, 'index': 'D', 'name': 'Mishkin Energizer', 'type': 'PROGRAMMING', 'points': 1750.0, 'rating': 1800, 'tags': ['brute force', 'constructive algorithms', 'greedy', 'implementation', 'strings']}",
         "{'contestId': 2092, 'participantId': 207299525, 'members': [{'handle': 'kingshukpatra11'}], 'participantType': 'PRACTICE', 'ghost': False, 'startTimeSeconds': 1743258900}",
         "C++17 (GCC 7-32)",
         "OK",
         "TESTS",
         "28",
         "61",
         "0"
        ],
        [
         "1",
         "313131884",
         "2092",
         "1743340231",
         "2147483647",
         "{'contestId': 2092, 'index': 'D', 'name': 'Mishkin Energizer', 'type': 'PROGRAMMING', 'points': 1750.0, 'rating': 1800, 'tags': ['brute force', 'constructive algorithms', 'greedy', 'implementation', 'strings']}",
         "{'contestId': 2092, 'participantId': 207299525, 'members': [{'handle': 'kingshukpatra11'}], 'participantType': 'PRACTICE', 'ghost': False, 'startTimeSeconds': 1743258900}",
         "C++17 (GCC 7-32)",
         "WRONG_ANSWER",
         "TESTS",
         "2",
         "46",
         "0"
        ],
        [
         "2",
         "313128656",
         "2092",
         "1743338542",
         "2147483647",
         "{'contestId': 2092, 'index': 'C', 'name': 'Asuna and the Mosquitoes', 'type': 'PROGRAMMING', 'points': 1250.0, 'rating': 1200, 'tags': ['constructive algorithms', 'greedy', 'math']}",
         "{'contestId': 2092, 'participantId': 207299525, 'members': [{'handle': 'kingshukpatra11'}], 'participantType': 'PRACTICE', 'ghost': False, 'startTimeSeconds': 1743258900}",
         "C++17 (GCC 7-32)",
         "OK",
         "TESTS",
         "20",
         "109",
         "0"
        ],
        [
         "3",
         "313128532",
         "2092",
         "1743338473",
         "2147483647",
         "{'contestId': 2092, 'index': 'C', 'name': 'Asuna and the Mosquitoes', 'type': 'PROGRAMMING', 'points': 1250.0, 'rating': 1200, 'tags': ['constructive algorithms', 'greedy', 'math']}",
         "{'contestId': 2092, 'participantId': 207299525, 'members': [{'handle': 'kingshukpatra11'}], 'participantType': 'PRACTICE', 'ghost': False, 'startTimeSeconds': 1743258900}",
         "C++17 (GCC 7-32)",
         "WRONG_ANSWER",
         "TESTS",
         "1",
         "77",
         "0"
        ],
        [
         "4",
         "313126319",
         "2092",
         "1743337188",
         "2147483647",
         "{'contestId': 2092, 'index': 'B', 'name': 'Lady Bug', 'type': 'PROGRAMMING', 'points': 750.0, 'rating': 1000, 'tags': ['brute force', 'constructive algorithms', 'implementation', 'math']}",
         "{'contestId': 2092, 'participantId': 207299525, 'members': [{'handle': 'kingshukpatra11'}], 'participantType': 'PRACTICE', 'ghost': False, 'startTimeSeconds': 1743258900}",
         "C++17 (GCC 7-32)",
         "OK",
         "TESTS",
         "10",
         "46",
         "0"
        ],
        [
         "5",
         "313124737",
         "2092",
         "1743336308",
         "2147483647",
         "{'contestId': 2092, 'index': 'A', 'name': 'Kamilka and the Sheep', 'type': 'PROGRAMMING', 'points': 500.0, 'rating': 800, 'tags': ['greedy', 'math', 'number theory', 'sortings']}",
         "{'contestId': 2092, 'participantId': 207299525, 'members': [{'handle': 'kingshukpatra11'}], 'participantType': 'PRACTICE', 'ghost': False, 'startTimeSeconds': 1743258900}",
         "C++17 (GCC 7-32)",
         "OK",
         "TESTS",
         "4",
         "46",
         "102400"
        ],
        [
         "6",
         "312944686",
         "1872",
         "1743256363",
         "2147483647",
         "{'contestId': 1872, 'index': 'E', 'name': 'Data Structures Fan', 'type': 'PROGRAMMING', 'rating': 1500, 'tags': ['binary search', 'bitmasks', 'data structures', 'dp']}",
         "{'contestId': 1872, 'participantId': 207235423, 'members': [{'handle': 'kingshukpatra11'}], 'participantType': 'PRACTICE', 'ghost': False, 'startTimeSeconds': 1694097300}",
         "C++17 (GCC 7-32)",
         "OK",
         "TESTS",
         "28",
         "140",
         "102400"
        ],
        [
         "7",
         "312939414",
         "1881",
         "1743253447",
         "2147483647",
         "{'contestId': 1881, 'index': 'E', 'name': 'Block Sequence', 'type': 'PROGRAMMING', 'rating': 1500, 'tags': ['dp']}",
         "{'contestId': 1881, 'participantId': 206078128, 'members': [{'handle': 'kingshukpatra11'}], 'participantType': 'PRACTICE', 'ghost': False, 'startTimeSeconds': 1697121300}",
         "C++17 (GCC 7-32)",
         "OK",
         "TESTS",
         "16",
         "78",
         "102400"
        ],
        [
         "8",
         "312938949",
         "1881",
         "1743253194",
         "2147483647",
         "{'contestId': 1881, 'index': 'E', 'name': 'Block Sequence', 'type': 'PROGRAMMING', 'rating': 1500, 'tags': ['dp']}",
         "{'contestId': 1881, 'participantId': 206078128, 'members': [{'handle': 'kingshukpatra11'}], 'participantType': 'PRACTICE', 'ghost': False, 'startTimeSeconds': 1697121300}",
         "C++17 (GCC 7-32)",
         "MEMORY_LIMIT_EXCEEDED",
         "TESTS",
         "3",
         "296",
         "268390400"
        ],
        [
         "9",
         "312938667",
         "1881",
         "1743253054",
         "2147483647",
         "{'contestId': 1881, 'index': 'E', 'name': 'Block Sequence', 'type': 'PROGRAMMING', 'rating': 1500, 'tags': ['dp']}",
         "{'contestId': 1881, 'participantId': 206078128, 'members': [{'handle': 'kingshukpatra11'}], 'participantType': 'PRACTICE', 'ghost': False, 'startTimeSeconds': 1697121300}",
         "C++17 (GCC 7-32)",
         "TIME_LIMIT_EXCEEDED",
         "TESTS",
         "3",
         "2000",
         "147456000"
        ],
        [
         "10",
         "312824917",
         "1891",
         "1743177134",
         "2147483647",
         "{'contestId': 1891, 'index': 'C', 'name': 'Smilo and Monsters', 'type': 'PROGRAMMING', 'points': 1000.0, 'rating': 1500, 'tags': ['binary search', 'constructive algorithms', 'greedy', 'sortings', 'two pointers']}",
         "{'contestId': 1891, 'participantId': 207157680, 'members': [{'handle': 'kingshukpatra11'}], 'participantType': 'PRACTICE', 'ghost': False, 'startTimeSeconds': 1698676500}",
         "C++17 (GCC 7-32)",
         "OK",
         "TESTS",
         "22",
         "108",
         "102400"
        ],
        [
         "11",
         "312824086",
         "1891",
         "1743176725",
         "2147483647",
         "{'contestId': 1891, 'index': 'C', 'name': 'Smilo and Monsters', 'type': 'PROGRAMMING', 'points': 1000.0, 'rating': 1500, 'tags': ['binary search', 'constructive algorithms', 'greedy', 'sortings', 'two pointers']}",
         "{'contestId': 1891, 'participantId': 207157680, 'members': [{'handle': 'kingshukpatra11'}], 'participantType': 'PRACTICE', 'ghost': False, 'startTimeSeconds': 1698676500}",
         "C++17 (GCC 7-32)",
         "WRONG_ANSWER",
         "TESTS",
         "1",
         "46",
         "102400"
        ],
        [
         "12",
         "312823630",
         "1891",
         "1743176496",
         "2147483647",
         "{'contestId': 1891, 'index': 'C', 'name': 'Smilo and Monsters', 'type': 'PROGRAMMING', 'points': 1000.0, 'rating': 1500, 'tags': ['binary search', 'constructive algorithms', 'greedy', 'sortings', 'two pointers']}",
         "{'contestId': 1891, 'participantId': 207157680, 'members': [{'handle': 'kingshukpatra11'}], 'participantType': 'PRACTICE', 'ghost': False, 'startTimeSeconds': 1698676500}",
         "C++17 (GCC 7-32)",
         "TIME_LIMIT_EXCEEDED",
         "TESTS",
         "1",
         "1000",
         "0"
        ],
        [
         "13",
         "312823278",
         "1891",
         "1743176311",
         "2147483647",
         "{'contestId': 1891, 'index': 'C', 'name': 'Smilo and Monsters', 'type': 'PROGRAMMING', 'points': 1000.0, 'rating': 1500, 'tags': ['binary search', 'constructive algorithms', 'greedy', 'sortings', 'two pointers']}",
         "{'contestId': 1891, 'participantId': 207157680, 'members': [{'handle': 'kingshukpatra11'}], 'participantType': 'PRACTICE', 'ghost': False, 'startTimeSeconds': 1698676500}",
         "C++17 (GCC 7-32)",
         "WRONG_ANSWER",
         "TESTS",
         "0",
         "62",
         "0"
        ],
        [
         "14",
         "312814058",
         "1891",
         "1743171751",
         "2147483647",
         "{'contestId': 1891, 'index': 'C', 'name': 'Smilo and Monsters', 'type': 'PROGRAMMING', 'points': 1000.0, 'rating': 1500, 'tags': ['binary search', 'constructive algorithms', 'greedy', 'sortings', 'two pointers']}",
         "{'contestId': 1891, 'participantId': 207157680, 'members': [{'handle': 'kingshukpatra11'}], 'participantType': 'PRACTICE', 'ghost': False, 'startTimeSeconds': 1698676500}",
         "C++17 (GCC 7-32)",
         "WRONG_ANSWER",
         "TESTS",
         "1",
         "30",
         "819200"
        ],
        [
         "15",
         "312799153",
         "1915",
         "1743165075",
         "2147483647",
         "{'contestId': 1915, 'index': 'F', 'name': 'Greetings', 'type': 'PROGRAMMING', 'rating': 1500, 'tags': ['data structures', 'divide and conquer', 'sortings']}",
         "{'contestId': 1915, 'participantId': 206076827, 'members': [{'handle': 'kingshukpatra11'}], 'participantType': 'PRACTICE', 'ghost': False, 'startTimeSeconds': 1703774100}",
         "C++17 (GCC 7-32)",
         "OK",
         "TESTS",
         "35",
         "327",
         "4710400"
        ],
        [
         "16",
         "312798829",
         "1915",
         "1743164920",
         "2147483647",
         "{'contestId': 1915, 'index': 'F', 'name': 'Greetings', 'type': 'PROGRAMMING', 'rating': 1500, 'tags': ['data structures', 'divide and conquer', 'sortings']}",
         "{'contestId': 1915, 'participantId': 206076827, 'members': [{'handle': 'kingshukpatra11'}], 'participantType': 'PRACTICE', 'ghost': False, 'startTimeSeconds': 1703774100}",
         "C++17 (GCC 7-32)",
         "WRONG_ANSWER",
         "TESTS",
         "2",
         "265",
         "4403200"
        ],
        [
         "17",
         "312798667",
         "1915",
         "1743164848",
         "2147483647",
         "{'contestId': 1915, 'index': 'F', 'name': 'Greetings', 'type': 'PROGRAMMING', 'rating': 1500, 'tags': ['data structures', 'divide and conquer', 'sortings']}",
         "{'contestId': 1915, 'participantId': 206076827, 'members': [{'handle': 'kingshukpatra11'}], 'participantType': 'PRACTICE', 'ghost': False, 'startTimeSeconds': 1703774100}",
         "C++17 (GCC 7-32)",
         "TIME_LIMIT_EXCEEDED",
         "TESTS",
         "2",
         "5000",
         "0"
        ],
        [
         "18",
         "312594970",
         "2091",
         "1743004781",
         "2147483647",
         "{'contestId': 2091, 'index': 'F', 'name': 'Igor and Mountain', 'type': 'PROGRAMMING', 'rating': 1800, 'tags': ['binary search', 'brute force', 'dp']}",
         "{'contestId': 2091, 'participantId': 206968305, 'members': [{'handle': 'kingshukpatra11'}], 'participantType': 'PRACTICE', 'ghost': False, 'startTimeSeconds': 1742913300}",
         "C++17 (GCC 7-32)",
         "OK",
         "TESTS",
         "43",
         "2312",
         "168857600"
        ],
        [
         "19",
         "312460789",
         "2091",
         "1742920872",
         "7572",
         "{'contestId': 2091, 'index': 'G', 'name': 'Gleb and Boating', 'type': 'PROGRAMMING', 'rating': 2300, 'tags': ['brute force', 'constructive algorithms', 'data structures', 'dp', 'graphs', 'greedy', 'math', 'number theory', 'shortest paths']}",
         "{'contestId': 2091, 'participantId': 206925174, 'members': [{'handle': 'kingshukpatra11'}], 'participantType': 'CONTESTANT', 'ghost': False, 'startTimeSeconds': 1742913300}",
         "C++17 (GCC 7-32)",
         "TIME_LIMIT_EXCEEDED",
         "TESTS",
         "4",
         "3000",
         "0"
        ],
        [
         "20",
         "312415714",
         "2091",
         "1742917131",
         "3831",
         "{'contestId': 2091, 'index': 'F', 'name': 'Igor and Mountain', 'type': 'PROGRAMMING', 'rating': 1800, 'tags': ['binary search', 'brute force', 'dp']}",
         "{'contestId': 2091, 'participantId': 206925174, 'members': [{'handle': 'kingshukpatra11'}], 'participantType': 'CONTESTANT', 'ghost': False, 'startTimeSeconds': 1742913300}",
         "C++17 (GCC 7-32)",
         "TIME_LIMIT_EXCEEDED",
         "TESTS",
         "33",
         "5000",
         "54988800"
        ],
        [
         "21",
         "312398025",
         "2091",
         "1742916132",
         "2832",
         "{'contestId': 2091, 'index': 'E', 'name': 'Interesting Ratio', 'type': 'PROGRAMMING', 'rating': 1300, 'tags': ['brute force', 'math', 'number theory', 'two pointers']}",
         "{'contestId': 2091, 'participantId': 206925174, 'members': [{'handle': 'kingshukpatra11'}], 'participantType': 'CONTESTANT', 'ghost': False, 'startTimeSeconds': 1742913300}",
         "C++17 (GCC 7-32)",
         "OK",
         "TESTS",
         "18",
         "109",
         "102400"
        ],
        [
         "22",
         "312386974",
         "2091",
         "1742915597",
         "2297",
         "{'contestId': 2091, 'index': 'D', 'name': 'Place of the Olympiad', 'type': 'PROGRAMMING', 'rating': 1200, 'tags': ['binary search', 'greedy', 'math']}",
         "{'contestId': 2091, 'participantId': 206925174, 'members': [{'handle': 'kingshukpatra11'}], 'participantType': 'CONTESTANT', 'ghost': False, 'startTimeSeconds': 1742913300}",
         "C++17 (GCC 7-32)",
         "OK",
         "TESTS",
         "10",
         "77",
         "0"
        ],
        [
         "23",
         "312377183",
         "2091",
         "1742915160",
         "1860",
         "{'contestId': 2091, 'index': 'C', 'name': 'Combination Lock', 'type': 'PROGRAMMING', 'rating': 1000, 'tags': ['constructive algorithms', 'greedy']}",
         "{'contestId': 2091, 'participantId': 206925174, 'members': [{'handle': 'kingshukpatra11'}], 'participantType': 'CONTESTANT', 'ghost': False, 'startTimeSeconds': 1742913300}",
         "C++17 (GCC 7-32)",
         "OK",
         "TESTS",
         "6",
         "78",
         "102400"
        ],
        [
         "24",
         "312362573",
         "2091",
         "1742914556",
         "1256",
         "{'contestId': 2091, 'index': 'B', 'name': 'Team Training', 'type': 'PROGRAMMING', 'rating': 800, 'tags': ['dp', 'greedy', 'sortings']}",
         "{'contestId': 2091, 'participantId': 206925174, 'members': [{'handle': 'kingshukpatra11'}], 'participantType': 'CONTESTANT', 'ghost': False, 'startTimeSeconds': 1742913300}",
         "C++17 (GCC 7-32)",
         "OK",
         "TESTS",
         "7",
         "108",
         "0"
        ],
        [
         "25",
         "312354811",
         "2091",
         "1742914265",
         "965",
         "{'contestId': 2091, 'index': 'A', 'name': 'Olympiad Date', 'type': 'PROGRAMMING', 'rating': 800, 'tags': ['greedy', 'strings']}",
         "{'contestId': 2091, 'participantId': 206925174, 'members': [{'handle': 'kingshukpatra11'}], 'participantType': 'CONTESTANT', 'ghost': False, 'startTimeSeconds': 1742913300}",
         "C++17 (GCC 7-32)",
         "OK",
         "TESTS",
         "5",
         "77",
         "0"
        ],
        [
         "26",
         "311683601",
         "1077",
         "1742574241",
         "2147483647",
         "{'contestId': 1077, 'index': 'C', 'name': 'Good Array', 'type': 'PROGRAMMING', 'rating': 1300, 'tags': []}",
         "{'contestId': 1077, 'participantId': 206232646, 'members': [{'handle': 'kingshukpatra11'}], 'participantType': 'PRACTICE', 'ghost': False, 'startTimeSeconds': 1542378900}",
         "C++17 (GCC 7-32)",
         "OK",
         "TESTS",
         "101",
         "109",
         "2560000"
        ],
        [
         "27",
         "311682723",
         "1077",
         "1742573838",
         "2147483647",
         "{'contestId': 1077, 'index': 'C', 'name': 'Good Array', 'type': 'PROGRAMMING', 'rating': 1300, 'tags': []}",
         "{'contestId': 1077, 'participantId': 206232646, 'members': [{'handle': 'kingshukpatra11'}], 'participantType': 'PRACTICE', 'ghost': False, 'startTimeSeconds': 1542378900}",
         "C++17 (GCC 7-32)",
         "WRONG_ANSWER",
         "TESTS",
         "16",
         "217",
         "7168000"
        ],
        [
         "28",
         "311682577",
         "1077",
         "1742573761",
         "2147483647",
         "{'contestId': 1077, 'index': 'C', 'name': 'Good Array', 'type': 'PROGRAMMING', 'rating': 1300, 'tags': []}",
         "{'contestId': 1077, 'participantId': 206232646, 'members': [{'handle': 'kingshukpatra11'}], 'participantType': 'PRACTICE', 'ghost': False, 'startTimeSeconds': 1542378900}",
         "C++17 (GCC 7-32)",
         "WRONG_ANSWER",
         "TESTS",
         "0",
         "46",
         "0"
        ],
        [
         "29",
         "311559774",
         "1119",
         "1742487655",
         "2147483647",
         "{'contestId': 1119, 'index': 'B', 'name': 'Alyona and a Narrow Fridge', 'type': 'PROGRAMMING', 'points': 1000.0, 'rating': 1300, 'tags': ['binary search', 'flows', 'greedy', 'sortings']}",
         "{'contestId': 1119, 'participantId': 206490754, 'members': [{'handle': 'kingshukpatra11'}], 'participantType': 'PRACTICE', 'ghost': False, 'startTimeSeconds': 1554550500}",
         "C++17 (GCC 7-32)",
         "WRONG_ANSWER",
         "TESTS",
         "9",
         "62",
         "0"
        ],
        [
         "30",
         "311558474",
         "1119",
         "1742487069",
         "2147483647",
         "{'contestId': 1119, 'index': 'B', 'name': 'Alyona and a Narrow Fridge', 'type': 'PROGRAMMING', 'points': 1000.0, 'rating': 1300, 'tags': ['binary search', 'flows', 'greedy', 'sortings']}",
         "{'contestId': 1119, 'participantId': 206490754, 'members': [{'handle': 'kingshukpatra11'}], 'participantType': 'PRACTICE', 'ghost': False, 'startTimeSeconds': 1554550500}",
         "C++17 (GCC 7-32)",
         "WRONG_ANSWER",
         "TESTS",
         "0",
         "31",
         "0"
        ],
        [
         "31",
         "311549622",
         "1178",
         "1742483131",
         "2147483647",
         "{'contestId': 1178, 'index': 'B', 'name': 'WOW Factor', 'type': 'PROGRAMMING', 'points': 750.0, 'rating': 1300, 'tags': ['dp', 'strings']}",
         "{'contestId': 1178, 'participantId': 206488351, 'members': [{'handle': 'kingshukpatra11'}], 'participantType': 'PRACTICE', 'ghost': False, 'startTimeSeconds': 1563636900}",
         "C++17 (GCC 7-32)",
         "OK",
         "TESTS",
         "20",
         "46",
         "102400"
        ],
        [
         "32",
         "311544863",
         "1237",
         "1742481139",
         "2147483647",
         "{'contestId': 1237, 'index': 'B', 'name': 'Balanced Tunnel', 'type': 'PROGRAMMING', 'points': 750.0, 'rating': 1300, 'tags': ['data structures', 'sortings', 'two pointers']}",
         "{'contestId': 1237, 'participantId': 206460802, 'members': [{'handle': 'kingshukpatra11'}], 'participantType': 'PRACTICE', 'ghost': False, 'startTimeSeconds': 1571236500}",
         "C++17 (GCC 7-32)",
         "OK",
         "TESTS",
         "20",
         "108",
         "102400"
        ],
        [
         "33",
         "311535069",
         "2074",
         "1742476941",
         "2147483647",
         "{'contestId': 2074, 'index': 'E', 'name': 'Empty Triangle', 'type': 'PROGRAMMING', 'rating': 1600, 'tags': ['geometry', 'interactive', 'probabilities']}",
         "{'contestId': 2074, 'participantId': 205800372, 'members': [{'handle': 'kingshukpatra11'}], 'participantType': 'PRACTICE', 'ghost': False, 'startTimeSeconds': 1741703700}",
         "C++17 (GCC 7-32)",
         "OK",
         "TESTS",
         "35",
         "77",
         "102400"
        ],
        [
         "34",
         "311532123",
         "2074",
         "1742475655",
         "2147483647",
         "{'contestId': 2074, 'index': 'E', 'name': 'Empty Triangle', 'type': 'PROGRAMMING', 'rating': 1600, 'tags': ['geometry', 'interactive', 'probabilities']}",
         "{'contestId': 2074, 'participantId': 205800372, 'members': [{'handle': 'kingshukpatra11'}], 'participantType': 'PRACTICE', 'ghost': False, 'startTimeSeconds': 1741703700}",
         "C++17 (GCC 7-32)",
         "TIME_LIMIT_EXCEEDED",
         "TESTS",
         "21",
         "2000",
         "102400"
        ],
        [
         "35",
         "311475044",
         "1285",
         "1742442756",
         "2147483647",
         "{'contestId': 1285, 'index': 'B', 'name': 'Just Eat It!', 'type': 'PROGRAMMING', 'points': 1000.0, 'rating': 1300, 'tags': ['dp', 'greedy', 'implementation']}",
         "{'contestId': 1285, 'participantId': 206230844, 'members': [{'handle': 'kingshukpatra11'}], 'participantType': 'PRACTICE', 'ghost': False, 'startTimeSeconds': 1578665100}",
         "C++17 (GCC 7-32)",
         "OK",
         "TESTS",
         "18",
         "77",
         "512000"
        ],
        [
         "36",
         "311242155",
         "2075",
         "1742295864",
         "2147483647",
         "{'contestId': 2075, 'index': 'D', 'name': 'Equalization', 'type': 'PROGRAMMING', 'rating': 2000, 'tags': ['bitmasks', 'brute force', 'dp', 'graphs', 'math']}",
         "{'contestId': 2075, 'participantId': 206259276, 'members': [{'handle': 'kingshukpatra11'}], 'participantType': 'PRACTICE', 'ghost': False, 'startTimeSeconds': 1742222100}",
         "C++17 (GCC 7-32)",
         "OK",
         "TESTS",
         "17",
         "1218",
         "1740800"
        ],
        [
         "37",
         "311131106",
         "2075",
         "1742228607",
         "6507",
         "{'contestId': 2075, 'index': 'D', 'name': 'Equalization', 'type': 'PROGRAMMING', 'rating': 2000, 'tags': ['bitmasks', 'brute force', 'dp', 'graphs', 'math']}",
         "{'contestId': 2075, 'participantId': 206238929, 'members': [{'handle': 'kingshukpatra11'}], 'participantType': 'CONTESTANT', 'ghost': False, 'startTimeSeconds': 1742222100}",
         "C++17 (GCC 7-32)",
         "WRONG_ANSWER",
         "TESTS",
         "1",
         "453",
         "0"
        ],
        [
         "38",
         "311088474",
         "2075",
         "1742225185",
         "3085",
         "{'contestId': 2075, 'index': 'C', 'name': 'Two Colors', 'type': 'PROGRAMMING', 'rating': 1500, 'tags': ['binary search', 'combinatorics', 'math']}",
         "{'contestId': 2075, 'participantId': 206238929, 'members': [{'handle': 'kingshukpatra11'}], 'participantType': 'CONTESTANT', 'ghost': False, 'startTimeSeconds': 1742222100}",
         "C++17 (GCC 7-32)",
         "OK",
         "TESTS",
         "12",
         "108",
         "307200"
        ],
        [
         "39",
         "311066556",
         "2075",
         "1742223716",
         "1616",
         "{'contestId': 2075, 'index': 'B', 'name': 'Array Recoloring', 'type': 'PROGRAMMING', 'rating': 1300, 'tags': ['constructive algorithms', 'greedy']}",
         "{'contestId': 2075, 'participantId': 206238929, 'members': [{'handle': 'kingshukpatra11'}], 'participantType': 'CONTESTANT', 'ghost': False, 'startTimeSeconds': 1742222100}",
         "C++17 (GCC 7-32)",
         "OK",
         "TESTS",
         "60",
         "77",
         "102400"
        ],
        [
         "40",
         "311052434",
         "2075",
         "1742222891",
         "791",
         "{'contestId': 2075, 'index': 'A', 'name': 'To Zero', 'type': 'PROGRAMMING', 'rating': 800, 'tags': ['greedy', 'math']}",
         "{'contestId': 2075, 'participantId': 206238929, 'members': [{'handle': 'kingshukpatra11'}], 'participantType': 'CONTESTANT', 'ghost': False, 'startTimeSeconds': 1742222100}",
         "C++17 (GCC 7-32)",
         "OK",
         "TESTS",
         "6",
         "77",
         "0"
        ],
        [
         "41",
         "311029117",
         "1294",
         "1742216917",
         "2147483647",
         "{'contestId': 1294, 'index': 'C', 'name': 'Product of Three Numbers', 'type': 'PROGRAMMING', 'rating': 1300, 'tags': ['greedy', 'math', 'number theory']}",
         "{'contestId': 1294, 'participantId': 206229290, 'members': [{'handle': 'kingshukpatra11'}], 'participantType': 'PRACTICE', 'ghost': False, 'startTimeSeconds': 1579703700}",
         "C++17 (GCC 7-32)",
         "OK",
         "TESTS",
         "30",
         "77",
         "102400"
        ],
        [
         "42",
         "311026488",
         "1360",
         "1742215706",
         "2147483647",
         "{'contestId': 1360, 'index': 'D', 'name': 'Buying Shovels', 'type': 'PROGRAMMING', 'rating': 1300, 'tags': ['math', 'number theory']}",
         "{'contestId': 1360, 'participantId': 206227733, 'members': [{'handle': 'kingshukpatra11'}], 'participantType': 'PRACTICE', 'ghost': False, 'startTimeSeconds': 1590327300}",
         "C++17 (GCC 7-32)",
         "OK",
         "TESTS",
         "52",
         "77",
         "102400"
        ],
        [
         "43",
         "311024174",
         "1364",
         "1742214580",
         "2147483647",
         "{'contestId': 1364, 'index': 'B', 'name': 'Most socially-distanced subsequence', 'type': 'PROGRAMMING', 'points': 1000.0, 'rating': 1300, 'tags': ['greedy', 'two pointers']}",
         "{'contestId': 1364, 'participantId': 206210382, 'members': [{'handle': 'kingshukpatra11'}], 'participantType': 'PRACTICE', 'ghost': False, 'startTimeSeconds': 1592060700}",
         "C++17 (GCC 7-32)",
         "OK",
         "TESTS",
         "23",
         "108",
         "409600"
        ],
        [
         "44",
         "311023956",
         "1364",
         "1742214487",
         "2147483647",
         "{'contestId': 1364, 'index': 'B', 'name': 'Most socially-distanced subsequence', 'type': 'PROGRAMMING', 'points': 1000.0, 'rating': 1300, 'tags': ['greedy', 'two pointers']}",
         "{'contestId': 1364, 'participantId': 206210382, 'members': [{'handle': 'kingshukpatra11'}], 'participantType': 'PRACTICE', 'ghost': False, 'startTimeSeconds': 1592060700}",
         "C++17 (GCC 7-32)",
         "WRONG_ANSWER",
         "TESTS",
         "0",
         "30",
         "409600"
        ],
        [
         "45",
         "310992575",
         "1366",
         "1742197464",
         "2147483647",
         "{'contestId': 1366, 'index': 'B', 'name': 'Shuffle', 'type': 'PROGRAMMING', 'rating': 1300, 'tags': ['math', 'two pointers']}",
         "{'contestId': 1366, 'participantId': 206209552, 'members': [{'handle': 'kingshukpatra11'}], 'participantType': 'PRACTICE', 'ghost': False, 'startTimeSeconds': 1591886100}",
         "C++17 (GCC 7-32)",
         "OK",
         "TESTS",
         "4",
         "46",
         "0"
        ],
        [
         "46",
         "310991112",
         "1372",
         "1742196427",
         "2147483647",
         "{'contestId': 1372, 'index': 'B', 'name': 'Omkar and Last Class of Math', 'type': 'PROGRAMMING', 'points': 1000.0, 'rating': 1300, 'tags': ['greedy', 'math', 'number theory']}",
         "{'contestId': 1372, 'participantId': 206177233, 'members': [{'handle': 'kingshukpatra11'}], 'participantType': 'PRACTICE', 'ghost': False, 'startTimeSeconds': 1594479900}",
         "C++17 (GCC 7-32)",
         "OK",
         "TESTS",
         "28",
         "62",
         "102400"
        ],
        [
         "47",
         "310931410",
         "1470",
         "1742146428",
         "2147483647",
         "{'contestId': 1470, 'index': 'A', 'name': 'Strange Birthday Party', 'type': 'PROGRAMMING', 'points': 500.0, 'rating': 1300, 'tags': ['binary search', 'dp', 'greedy', 'sortings', 'two pointers']}",
         "{'contestId': 1470, 'participantId': 206149071, 'members': [{'handle': 'kingshukpatra11'}], 'participantType': 'PRACTICE', 'ghost': False, 'startTimeSeconds': 1609857300}",
         "C++17 (GCC 7-32)",
         "OK",
         "TESTS",
         "34",
         "187",
         "102400"
        ],
        [
         "48",
         "310931260",
         "1470",
         "1742146356",
         "2147483647",
         "{'contestId': 1470, 'index': 'A', 'name': 'Strange Birthday Party', 'type': 'PROGRAMMING', 'points': 500.0, 'rating': 1300, 'tags': ['binary search', 'dp', 'greedy', 'sortings', 'two pointers']}",
         "{'contestId': 1470, 'participantId': 206149071, 'members': [{'handle': 'kingshukpatra11'}], 'participantType': 'PRACTICE', 'ghost': False, 'startTimeSeconds': 1609857300}",
         "C++17 (GCC 7-32)",
         "WRONG_ANSWER",
         "TESTS",
         "2",
         "46",
         "0"
        ],
        [
         "49",
         "310877229",
         "1498",
         "1742120256",
         "2147483647",
         "{'contestId': 1498, 'index': 'B', 'name': 'Box Fitting', 'type': 'PROGRAMMING', 'points': 1000.0, 'rating': 1300, 'tags': ['binary search', 'bitmasks', 'data structures', 'greedy']}",
         "{'contestId': 1498, 'participantId': 206140920, 'members': [{'handle': 'kingshukpatra11'}], 'participantType': 'PRACTICE', 'ghost': False, 'startTimeSeconds': 1617028500}",
         "C++17 (GCC 7-32)",
         "OK",
         "TESTS",
         "28",
         "77",
         "0"
        ]
       ],
       "shape": {
        "columns": 12,
        "rows": 184
       }
      },
      "text/html": [
       "<div>\n",
       "<style scoped>\n",
       "    .dataframe tbody tr th:only-of-type {\n",
       "        vertical-align: middle;\n",
       "    }\n",
       "\n",
       "    .dataframe tbody tr th {\n",
       "        vertical-align: top;\n",
       "    }\n",
       "\n",
       "    .dataframe thead th {\n",
       "        text-align: right;\n",
       "    }\n",
       "</style>\n",
       "<table border=\"1\" class=\"dataframe\">\n",
       "  <thead>\n",
       "    <tr style=\"text-align: right;\">\n",
       "      <th></th>\n",
       "      <th>id</th>\n",
       "      <th>contestId</th>\n",
       "      <th>creationTimeSeconds</th>\n",
       "      <th>relativeTimeSeconds</th>\n",
       "      <th>problem</th>\n",
       "      <th>author</th>\n",
       "      <th>programmingLanguage</th>\n",
       "      <th>verdict</th>\n",
       "      <th>testset</th>\n",
       "      <th>passedTestCount</th>\n",
       "      <th>timeConsumedMillis</th>\n",
       "      <th>memoryConsumedBytes</th>\n",
       "    </tr>\n",
       "  </thead>\n",
       "  <tbody>\n",
       "    <tr>\n",
       "      <th>0</th>\n",
       "      <td>313132413</td>\n",
       "      <td>2092</td>\n",
       "      <td>1743340536</td>\n",
       "      <td>2147483647</td>\n",
       "      <td>{'contestId': 2092, 'index': 'D', 'name': 'Mis...</td>\n",
       "      <td>{'contestId': 2092, 'participantId': 207299525...</td>\n",
       "      <td>C++17 (GCC 7-32)</td>\n",
       "      <td>OK</td>\n",
       "      <td>TESTS</td>\n",
       "      <td>28</td>\n",
       "      <td>61</td>\n",
       "      <td>0</td>\n",
       "    </tr>\n",
       "    <tr>\n",
       "      <th>1</th>\n",
       "      <td>313131884</td>\n",
       "      <td>2092</td>\n",
       "      <td>1743340231</td>\n",
       "      <td>2147483647</td>\n",
       "      <td>{'contestId': 2092, 'index': 'D', 'name': 'Mis...</td>\n",
       "      <td>{'contestId': 2092, 'participantId': 207299525...</td>\n",
       "      <td>C++17 (GCC 7-32)</td>\n",
       "      <td>WRONG_ANSWER</td>\n",
       "      <td>TESTS</td>\n",
       "      <td>2</td>\n",
       "      <td>46</td>\n",
       "      <td>0</td>\n",
       "    </tr>\n",
       "    <tr>\n",
       "      <th>2</th>\n",
       "      <td>313128656</td>\n",
       "      <td>2092</td>\n",
       "      <td>1743338542</td>\n",
       "      <td>2147483647</td>\n",
       "      <td>{'contestId': 2092, 'index': 'C', 'name': 'Asu...</td>\n",
       "      <td>{'contestId': 2092, 'participantId': 207299525...</td>\n",
       "      <td>C++17 (GCC 7-32)</td>\n",
       "      <td>OK</td>\n",
       "      <td>TESTS</td>\n",
       "      <td>20</td>\n",
       "      <td>109</td>\n",
       "      <td>0</td>\n",
       "    </tr>\n",
       "    <tr>\n",
       "      <th>3</th>\n",
       "      <td>313128532</td>\n",
       "      <td>2092</td>\n",
       "      <td>1743338473</td>\n",
       "      <td>2147483647</td>\n",
       "      <td>{'contestId': 2092, 'index': 'C', 'name': 'Asu...</td>\n",
       "      <td>{'contestId': 2092, 'participantId': 207299525...</td>\n",
       "      <td>C++17 (GCC 7-32)</td>\n",
       "      <td>WRONG_ANSWER</td>\n",
       "      <td>TESTS</td>\n",
       "      <td>1</td>\n",
       "      <td>77</td>\n",
       "      <td>0</td>\n",
       "    </tr>\n",
       "    <tr>\n",
       "      <th>4</th>\n",
       "      <td>313126319</td>\n",
       "      <td>2092</td>\n",
       "      <td>1743337188</td>\n",
       "      <td>2147483647</td>\n",
       "      <td>{'contestId': 2092, 'index': 'B', 'name': 'Lad...</td>\n",
       "      <td>{'contestId': 2092, 'participantId': 207299525...</td>\n",
       "      <td>C++17 (GCC 7-32)</td>\n",
       "      <td>OK</td>\n",
       "      <td>TESTS</td>\n",
       "      <td>10</td>\n",
       "      <td>46</td>\n",
       "      <td>0</td>\n",
       "    </tr>\n",
       "    <tr>\n",
       "      <th>...</th>\n",
       "      <td>...</td>\n",
       "      <td>...</td>\n",
       "      <td>...</td>\n",
       "      <td>...</td>\n",
       "      <td>...</td>\n",
       "      <td>...</td>\n",
       "      <td>...</td>\n",
       "      <td>...</td>\n",
       "      <td>...</td>\n",
       "      <td>...</td>\n",
       "      <td>...</td>\n",
       "      <td>...</td>\n",
       "    </tr>\n",
       "    <tr>\n",
       "      <th>179</th>\n",
       "      <td>287834967</td>\n",
       "      <td>2033</td>\n",
       "      <td>1729806133</td>\n",
       "      <td>2147483647</td>\n",
       "      <td>{'contestId': 2033, 'index': 'F', 'name': 'Kos...</td>\n",
       "      <td>{'contestId': 2033, 'participantId': 195178399...</td>\n",
       "      <td>C++17 (GCC 7-32)</td>\n",
       "      <td>COMPILATION_ERROR</td>\n",
       "      <td>TESTS</td>\n",
       "      <td>0</td>\n",
       "      <td>0</td>\n",
       "      <td>0</td>\n",
       "    </tr>\n",
       "    <tr>\n",
       "      <th>180</th>\n",
       "      <td>287833502</td>\n",
       "      <td>2033</td>\n",
       "      <td>1729804720</td>\n",
       "      <td>2147483647</td>\n",
       "      <td>{'contestId': 2033, 'index': 'F', 'name': 'Kos...</td>\n",
       "      <td>{'contestId': 2033, 'participantId': 195178399...</td>\n",
       "      <td>C++17 (GCC 7-32)</td>\n",
       "      <td>TIME_LIMIT_EXCEEDED</td>\n",
       "      <td>TESTS</td>\n",
       "      <td>0</td>\n",
       "      <td>1000</td>\n",
       "      <td>102400</td>\n",
       "    </tr>\n",
       "    <tr>\n",
       "      <th>181</th>\n",
       "      <td>287832873</td>\n",
       "      <td>2033</td>\n",
       "      <td>1729804153</td>\n",
       "      <td>2147483647</td>\n",
       "      <td>{'contestId': 2033, 'index': 'F', 'name': 'Kos...</td>\n",
       "      <td>{'contestId': 2033, 'participantId': 195178399...</td>\n",
       "      <td>C++17 (GCC 7-32)</td>\n",
       "      <td>TIME_LIMIT_EXCEEDED</td>\n",
       "      <td>TESTS</td>\n",
       "      <td>0</td>\n",
       "      <td>1000</td>\n",
       "      <td>0</td>\n",
       "    </tr>\n",
       "    <tr>\n",
       "      <th>182</th>\n",
       "      <td>287832494</td>\n",
       "      <td>2033</td>\n",
       "      <td>1729803829</td>\n",
       "      <td>2147483647</td>\n",
       "      <td>{'contestId': 2033, 'index': 'F', 'name': 'Kos...</td>\n",
       "      <td>{'contestId': 2033, 'participantId': 195178399...</td>\n",
       "      <td>GNU C11</td>\n",
       "      <td>COMPILATION_ERROR</td>\n",
       "      <td>TESTS</td>\n",
       "      <td>0</td>\n",
       "      <td>0</td>\n",
       "      <td>0</td>\n",
       "    </tr>\n",
       "    <tr>\n",
       "      <th>183</th>\n",
       "      <td>287832389</td>\n",
       "      <td>2033</td>\n",
       "      <td>1729803747</td>\n",
       "      <td>2147483647</td>\n",
       "      <td>{'contestId': 2033, 'index': 'F', 'name': 'Kos...</td>\n",
       "      <td>{'contestId': 2033, 'participantId': 195178399...</td>\n",
       "      <td>GNU C11</td>\n",
       "      <td>COMPILATION_ERROR</td>\n",
       "      <td>TESTS</td>\n",
       "      <td>0</td>\n",
       "      <td>0</td>\n",
       "      <td>0</td>\n",
       "    </tr>\n",
       "  </tbody>\n",
       "</table>\n",
       "<p>184 rows × 12 columns</p>\n",
       "</div>"
      ],
      "text/plain": [
       "            id  contestId  creationTimeSeconds  relativeTimeSeconds  \\\n",
       "0    313132413       2092           1743340536           2147483647   \n",
       "1    313131884       2092           1743340231           2147483647   \n",
       "2    313128656       2092           1743338542           2147483647   \n",
       "3    313128532       2092           1743338473           2147483647   \n",
       "4    313126319       2092           1743337188           2147483647   \n",
       "..         ...        ...                  ...                  ...   \n",
       "179  287834967       2033           1729806133           2147483647   \n",
       "180  287833502       2033           1729804720           2147483647   \n",
       "181  287832873       2033           1729804153           2147483647   \n",
       "182  287832494       2033           1729803829           2147483647   \n",
       "183  287832389       2033           1729803747           2147483647   \n",
       "\n",
       "                                               problem  \\\n",
       "0    {'contestId': 2092, 'index': 'D', 'name': 'Mis...   \n",
       "1    {'contestId': 2092, 'index': 'D', 'name': 'Mis...   \n",
       "2    {'contestId': 2092, 'index': 'C', 'name': 'Asu...   \n",
       "3    {'contestId': 2092, 'index': 'C', 'name': 'Asu...   \n",
       "4    {'contestId': 2092, 'index': 'B', 'name': 'Lad...   \n",
       "..                                                 ...   \n",
       "179  {'contestId': 2033, 'index': 'F', 'name': 'Kos...   \n",
       "180  {'contestId': 2033, 'index': 'F', 'name': 'Kos...   \n",
       "181  {'contestId': 2033, 'index': 'F', 'name': 'Kos...   \n",
       "182  {'contestId': 2033, 'index': 'F', 'name': 'Kos...   \n",
       "183  {'contestId': 2033, 'index': 'F', 'name': 'Kos...   \n",
       "\n",
       "                                                author programmingLanguage  \\\n",
       "0    {'contestId': 2092, 'participantId': 207299525...    C++17 (GCC 7-32)   \n",
       "1    {'contestId': 2092, 'participantId': 207299525...    C++17 (GCC 7-32)   \n",
       "2    {'contestId': 2092, 'participantId': 207299525...    C++17 (GCC 7-32)   \n",
       "3    {'contestId': 2092, 'participantId': 207299525...    C++17 (GCC 7-32)   \n",
       "4    {'contestId': 2092, 'participantId': 207299525...    C++17 (GCC 7-32)   \n",
       "..                                                 ...                 ...   \n",
       "179  {'contestId': 2033, 'participantId': 195178399...    C++17 (GCC 7-32)   \n",
       "180  {'contestId': 2033, 'participantId': 195178399...    C++17 (GCC 7-32)   \n",
       "181  {'contestId': 2033, 'participantId': 195178399...    C++17 (GCC 7-32)   \n",
       "182  {'contestId': 2033, 'participantId': 195178399...             GNU C11   \n",
       "183  {'contestId': 2033, 'participantId': 195178399...             GNU C11   \n",
       "\n",
       "                 verdict testset  passedTestCount  timeConsumedMillis  \\\n",
       "0                     OK   TESTS               28                  61   \n",
       "1           WRONG_ANSWER   TESTS                2                  46   \n",
       "2                     OK   TESTS               20                 109   \n",
       "3           WRONG_ANSWER   TESTS                1                  77   \n",
       "4                     OK   TESTS               10                  46   \n",
       "..                   ...     ...              ...                 ...   \n",
       "179    COMPILATION_ERROR   TESTS                0                   0   \n",
       "180  TIME_LIMIT_EXCEEDED   TESTS                0                1000   \n",
       "181  TIME_LIMIT_EXCEEDED   TESTS                0                1000   \n",
       "182    COMPILATION_ERROR   TESTS                0                   0   \n",
       "183    COMPILATION_ERROR   TESTS                0                   0   \n",
       "\n",
       "     memoryConsumedBytes  \n",
       "0                      0  \n",
       "1                      0  \n",
       "2                      0  \n",
       "3                      0  \n",
       "4                      0  \n",
       "..                   ...  \n",
       "179                    0  \n",
       "180               102400  \n",
       "181                    0  \n",
       "182                    0  \n",
       "183                    0  \n",
       "\n",
       "[184 rows x 12 columns]"
      ]
     },
     "execution_count": 103,
     "metadata": {},
     "output_type": "execute_result"
    }
   ],
   "source": [
    "submission_data = pd.DataFrame(response_submission_data['result'])\n",
    "submission_data"
   ]
  },
  {
   "cell_type": "markdown",
   "id": "4f69b465",
   "metadata": {},
   "source": [
    "#### What the column means ?\n",
    "##### The column id is important to seperate the problems\n",
    "##### The column creationTimeSeconds and relativeTimeSeconds show respectively the time when the problem was submitted and after the start of contest when the problem was submitted\n",
    "##### As we are seeing these for only determine user's practice we have no importance of relativeTimeSeconds but we need creationTimeSeconds to get which problems a user solved before certain contest\n",
    "##### the column problem has much information that needs to cared seperately\n",
    "##### the column author, programming language, testset, passedTestCount, timeConsumedMills, memoryConsumedBytes has almost no importance for our use"
   ]
  },
  {
   "cell_type": "code",
   "execution_count": 104,
   "id": "c6db3ba0",
   "metadata": {},
   "outputs": [
    {
     "name": "stdout",
     "output_type": "stream",
     "text": [
      "Index(['id', 'contestId', 'creationTimeSeconds', 'relativeTimeSeconds',\n",
      "       'problem', 'author', 'programmingLanguage', 'verdict', 'testset',\n",
      "       'passedTestCount', 'timeConsumedMillis', 'memoryConsumedBytes'],\n",
      "      dtype='object')\n"
     ]
    }
   ],
   "source": [
    "print(submission_data.columns)"
   ]
  },
  {
   "cell_type": "code",
   "execution_count": 105,
   "id": "7a13b3f3",
   "metadata": {},
   "outputs": [
    {
     "data": {
      "application/vnd.microsoft.datawrangler.viewer.v0+json": {
       "columns": [
        {
         "name": "index",
         "rawType": "int64",
         "type": "integer"
        },
        {
         "name": "id",
         "rawType": "int64",
         "type": "integer"
        },
        {
         "name": "creationTimeSeconds",
         "rawType": "int64",
         "type": "integer"
        },
        {
         "name": "verdict",
         "rawType": "object",
         "type": "string"
        }
       ],
       "conversionMethod": "pd.DataFrame",
       "ref": "7e42599d-ecaa-49e6-9fc8-61fb83bdab54",
       "rows": [
        [
         "0",
         "313132413",
         "1743340536",
         "OK"
        ],
        [
         "1",
         "313131884",
         "1743340231",
         "WRONG_ANSWER"
        ],
        [
         "2",
         "313128656",
         "1743338542",
         "OK"
        ],
        [
         "3",
         "313128532",
         "1743338473",
         "WRONG_ANSWER"
        ],
        [
         "4",
         "313126319",
         "1743337188",
         "OK"
        ],
        [
         "5",
         "313124737",
         "1743336308",
         "OK"
        ],
        [
         "6",
         "312944686",
         "1743256363",
         "OK"
        ],
        [
         "7",
         "312939414",
         "1743253447",
         "OK"
        ],
        [
         "8",
         "312938949",
         "1743253194",
         "MEMORY_LIMIT_EXCEEDED"
        ],
        [
         "9",
         "312938667",
         "1743253054",
         "TIME_LIMIT_EXCEEDED"
        ],
        [
         "10",
         "312824917",
         "1743177134",
         "OK"
        ],
        [
         "11",
         "312824086",
         "1743176725",
         "WRONG_ANSWER"
        ],
        [
         "12",
         "312823630",
         "1743176496",
         "TIME_LIMIT_EXCEEDED"
        ],
        [
         "13",
         "312823278",
         "1743176311",
         "WRONG_ANSWER"
        ],
        [
         "14",
         "312814058",
         "1743171751",
         "WRONG_ANSWER"
        ],
        [
         "15",
         "312799153",
         "1743165075",
         "OK"
        ],
        [
         "16",
         "312798829",
         "1743164920",
         "WRONG_ANSWER"
        ],
        [
         "17",
         "312798667",
         "1743164848",
         "TIME_LIMIT_EXCEEDED"
        ],
        [
         "18",
         "312594970",
         "1743004781",
         "OK"
        ],
        [
         "19",
         "312460789",
         "1742920872",
         "TIME_LIMIT_EXCEEDED"
        ],
        [
         "20",
         "312415714",
         "1742917131",
         "TIME_LIMIT_EXCEEDED"
        ],
        [
         "21",
         "312398025",
         "1742916132",
         "OK"
        ],
        [
         "22",
         "312386974",
         "1742915597",
         "OK"
        ],
        [
         "23",
         "312377183",
         "1742915160",
         "OK"
        ],
        [
         "24",
         "312362573",
         "1742914556",
         "OK"
        ],
        [
         "25",
         "312354811",
         "1742914265",
         "OK"
        ],
        [
         "26",
         "311683601",
         "1742574241",
         "OK"
        ],
        [
         "27",
         "311682723",
         "1742573838",
         "WRONG_ANSWER"
        ],
        [
         "28",
         "311682577",
         "1742573761",
         "WRONG_ANSWER"
        ],
        [
         "29",
         "311559774",
         "1742487655",
         "WRONG_ANSWER"
        ],
        [
         "30",
         "311558474",
         "1742487069",
         "WRONG_ANSWER"
        ],
        [
         "31",
         "311549622",
         "1742483131",
         "OK"
        ],
        [
         "32",
         "311544863",
         "1742481139",
         "OK"
        ],
        [
         "33",
         "311535069",
         "1742476941",
         "OK"
        ],
        [
         "34",
         "311532123",
         "1742475655",
         "TIME_LIMIT_EXCEEDED"
        ],
        [
         "35",
         "311475044",
         "1742442756",
         "OK"
        ],
        [
         "36",
         "311242155",
         "1742295864",
         "OK"
        ],
        [
         "37",
         "311131106",
         "1742228607",
         "WRONG_ANSWER"
        ],
        [
         "38",
         "311088474",
         "1742225185",
         "OK"
        ],
        [
         "39",
         "311066556",
         "1742223716",
         "OK"
        ],
        [
         "40",
         "311052434",
         "1742222891",
         "OK"
        ],
        [
         "41",
         "311029117",
         "1742216917",
         "OK"
        ],
        [
         "42",
         "311026488",
         "1742215706",
         "OK"
        ],
        [
         "43",
         "311024174",
         "1742214580",
         "OK"
        ],
        [
         "44",
         "311023956",
         "1742214487",
         "WRONG_ANSWER"
        ],
        [
         "45",
         "310992575",
         "1742197464",
         "OK"
        ],
        [
         "46",
         "310991112",
         "1742196427",
         "OK"
        ],
        [
         "47",
         "310931410",
         "1742146428",
         "OK"
        ],
        [
         "48",
         "310931260",
         "1742146356",
         "WRONG_ANSWER"
        ],
        [
         "49",
         "310877229",
         "1742120256",
         "OK"
        ]
       ],
       "shape": {
        "columns": 3,
        "rows": 184
       }
      },
      "text/html": [
       "<div>\n",
       "<style scoped>\n",
       "    .dataframe tbody tr th:only-of-type {\n",
       "        vertical-align: middle;\n",
       "    }\n",
       "\n",
       "    .dataframe tbody tr th {\n",
       "        vertical-align: top;\n",
       "    }\n",
       "\n",
       "    .dataframe thead th {\n",
       "        text-align: right;\n",
       "    }\n",
       "</style>\n",
       "<table border=\"1\" class=\"dataframe\">\n",
       "  <thead>\n",
       "    <tr style=\"text-align: right;\">\n",
       "      <th></th>\n",
       "      <th>id</th>\n",
       "      <th>creationTimeSeconds</th>\n",
       "      <th>verdict</th>\n",
       "    </tr>\n",
       "  </thead>\n",
       "  <tbody>\n",
       "    <tr>\n",
       "      <th>0</th>\n",
       "      <td>313132413</td>\n",
       "      <td>1743340536</td>\n",
       "      <td>OK</td>\n",
       "    </tr>\n",
       "    <tr>\n",
       "      <th>1</th>\n",
       "      <td>313131884</td>\n",
       "      <td>1743340231</td>\n",
       "      <td>WRONG_ANSWER</td>\n",
       "    </tr>\n",
       "    <tr>\n",
       "      <th>2</th>\n",
       "      <td>313128656</td>\n",
       "      <td>1743338542</td>\n",
       "      <td>OK</td>\n",
       "    </tr>\n",
       "    <tr>\n",
       "      <th>3</th>\n",
       "      <td>313128532</td>\n",
       "      <td>1743338473</td>\n",
       "      <td>WRONG_ANSWER</td>\n",
       "    </tr>\n",
       "    <tr>\n",
       "      <th>4</th>\n",
       "      <td>313126319</td>\n",
       "      <td>1743337188</td>\n",
       "      <td>OK</td>\n",
       "    </tr>\n",
       "    <tr>\n",
       "      <th>...</th>\n",
       "      <td>...</td>\n",
       "      <td>...</td>\n",
       "      <td>...</td>\n",
       "    </tr>\n",
       "    <tr>\n",
       "      <th>179</th>\n",
       "      <td>287834967</td>\n",
       "      <td>1729806133</td>\n",
       "      <td>COMPILATION_ERROR</td>\n",
       "    </tr>\n",
       "    <tr>\n",
       "      <th>180</th>\n",
       "      <td>287833502</td>\n",
       "      <td>1729804720</td>\n",
       "      <td>TIME_LIMIT_EXCEEDED</td>\n",
       "    </tr>\n",
       "    <tr>\n",
       "      <th>181</th>\n",
       "      <td>287832873</td>\n",
       "      <td>1729804153</td>\n",
       "      <td>TIME_LIMIT_EXCEEDED</td>\n",
       "    </tr>\n",
       "    <tr>\n",
       "      <th>182</th>\n",
       "      <td>287832494</td>\n",
       "      <td>1729803829</td>\n",
       "      <td>COMPILATION_ERROR</td>\n",
       "    </tr>\n",
       "    <tr>\n",
       "      <th>183</th>\n",
       "      <td>287832389</td>\n",
       "      <td>1729803747</td>\n",
       "      <td>COMPILATION_ERROR</td>\n",
       "    </tr>\n",
       "  </tbody>\n",
       "</table>\n",
       "<p>184 rows × 3 columns</p>\n",
       "</div>"
      ],
      "text/plain": [
       "            id  creationTimeSeconds              verdict\n",
       "0    313132413           1743340536                   OK\n",
       "1    313131884           1743340231         WRONG_ANSWER\n",
       "2    313128656           1743338542                   OK\n",
       "3    313128532           1743338473         WRONG_ANSWER\n",
       "4    313126319           1743337188                   OK\n",
       "..         ...                  ...                  ...\n",
       "179  287834967           1729806133    COMPILATION_ERROR\n",
       "180  287833502           1729804720  TIME_LIMIT_EXCEEDED\n",
       "181  287832873           1729804153  TIME_LIMIT_EXCEEDED\n",
       "182  287832494           1729803829    COMPILATION_ERROR\n",
       "183  287832389           1729803747    COMPILATION_ERROR\n",
       "\n",
       "[184 rows x 3 columns]"
      ]
     },
     "execution_count": 105,
     "metadata": {},
     "output_type": "execute_result"
    }
   ],
   "source": [
    "columns_to_keep = ['id','creationTimeSeconds','verdict']\n",
    "submission_data = submission_data[columns_to_keep].copy(deep=True)\n",
    "submission_data"
   ]
  },
  {
   "cell_type": "code",
   "execution_count": 106,
   "id": "2c2e191c",
   "metadata": {},
   "outputs": [
    {
     "data": {
      "application/vnd.microsoft.datawrangler.viewer.v0+json": {
       "columns": [
        {
         "name": "index",
         "rawType": "int64",
         "type": "integer"
        },
        {
         "name": "contestId",
         "rawType": "int64",
         "type": "integer"
        },
        {
         "name": "index",
         "rawType": "object",
         "type": "string"
        },
        {
         "name": "name",
         "rawType": "object",
         "type": "string"
        },
        {
         "name": "type",
         "rawType": "object",
         "type": "string"
        },
        {
         "name": "points",
         "rawType": "float64",
         "type": "float"
        },
        {
         "name": "rating",
         "rawType": "int64",
         "type": "integer"
        },
        {
         "name": "tags",
         "rawType": "object",
         "type": "unknown"
        }
       ],
       "conversionMethod": "pd.DataFrame",
       "ref": "267aa23b-9bb8-407b-af5b-161349ef4699",
       "rows": [
        [
         "0",
         "2092",
         "D",
         "Mishkin Energizer",
         "PROGRAMMING",
         "1750.0",
         "1800",
         "['brute force', 'constructive algorithms', 'greedy', 'implementation', 'strings']"
        ],
        [
         "1",
         "2092",
         "D",
         "Mishkin Energizer",
         "PROGRAMMING",
         "1750.0",
         "1800",
         "['brute force', 'constructive algorithms', 'greedy', 'implementation', 'strings']"
        ],
        [
         "2",
         "2092",
         "C",
         "Asuna and the Mosquitoes",
         "PROGRAMMING",
         "1250.0",
         "1200",
         "['constructive algorithms', 'greedy', 'math']"
        ],
        [
         "3",
         "2092",
         "C",
         "Asuna and the Mosquitoes",
         "PROGRAMMING",
         "1250.0",
         "1200",
         "['constructive algorithms', 'greedy', 'math']"
        ],
        [
         "4",
         "2092",
         "B",
         "Lady Bug",
         "PROGRAMMING",
         "750.0",
         "1000",
         "['brute force', 'constructive algorithms', 'implementation', 'math']"
        ],
        [
         "5",
         "2092",
         "A",
         "Kamilka and the Sheep",
         "PROGRAMMING",
         "500.0",
         "800",
         "['greedy', 'math', 'number theory', 'sortings']"
        ],
        [
         "6",
         "1872",
         "E",
         "Data Structures Fan",
         "PROGRAMMING",
         null,
         "1500",
         "['binary search', 'bitmasks', 'data structures', 'dp']"
        ],
        [
         "7",
         "1881",
         "E",
         "Block Sequence",
         "PROGRAMMING",
         null,
         "1500",
         "['dp']"
        ],
        [
         "8",
         "1881",
         "E",
         "Block Sequence",
         "PROGRAMMING",
         null,
         "1500",
         "['dp']"
        ],
        [
         "9",
         "1881",
         "E",
         "Block Sequence",
         "PROGRAMMING",
         null,
         "1500",
         "['dp']"
        ],
        [
         "10",
         "1891",
         "C",
         "Smilo and Monsters",
         "PROGRAMMING",
         "1000.0",
         "1500",
         "['binary search', 'constructive algorithms', 'greedy', 'sortings', 'two pointers']"
        ],
        [
         "11",
         "1891",
         "C",
         "Smilo and Monsters",
         "PROGRAMMING",
         "1000.0",
         "1500",
         "['binary search', 'constructive algorithms', 'greedy', 'sortings', 'two pointers']"
        ],
        [
         "12",
         "1891",
         "C",
         "Smilo and Monsters",
         "PROGRAMMING",
         "1000.0",
         "1500",
         "['binary search', 'constructive algorithms', 'greedy', 'sortings', 'two pointers']"
        ],
        [
         "13",
         "1891",
         "C",
         "Smilo and Monsters",
         "PROGRAMMING",
         "1000.0",
         "1500",
         "['binary search', 'constructive algorithms', 'greedy', 'sortings', 'two pointers']"
        ],
        [
         "14",
         "1891",
         "C",
         "Smilo and Monsters",
         "PROGRAMMING",
         "1000.0",
         "1500",
         "['binary search', 'constructive algorithms', 'greedy', 'sortings', 'two pointers']"
        ],
        [
         "15",
         "1915",
         "F",
         "Greetings",
         "PROGRAMMING",
         null,
         "1500",
         "['data structures', 'divide and conquer', 'sortings']"
        ],
        [
         "16",
         "1915",
         "F",
         "Greetings",
         "PROGRAMMING",
         null,
         "1500",
         "['data structures', 'divide and conquer', 'sortings']"
        ],
        [
         "17",
         "1915",
         "F",
         "Greetings",
         "PROGRAMMING",
         null,
         "1500",
         "['data structures', 'divide and conquer', 'sortings']"
        ],
        [
         "18",
         "2091",
         "F",
         "Igor and Mountain",
         "PROGRAMMING",
         null,
         "1800",
         "['binary search', 'brute force', 'dp']"
        ],
        [
         "19",
         "2091",
         "G",
         "Gleb and Boating",
         "PROGRAMMING",
         null,
         "2300",
         "['brute force', 'constructive algorithms', 'data structures', 'dp', 'graphs', 'greedy', 'math', 'number theory', 'shortest paths']"
        ],
        [
         "20",
         "2091",
         "F",
         "Igor and Mountain",
         "PROGRAMMING",
         null,
         "1800",
         "['binary search', 'brute force', 'dp']"
        ],
        [
         "21",
         "2091",
         "E",
         "Interesting Ratio",
         "PROGRAMMING",
         null,
         "1300",
         "['brute force', 'math', 'number theory', 'two pointers']"
        ],
        [
         "22",
         "2091",
         "D",
         "Place of the Olympiad",
         "PROGRAMMING",
         null,
         "1200",
         "['binary search', 'greedy', 'math']"
        ],
        [
         "23",
         "2091",
         "C",
         "Combination Lock",
         "PROGRAMMING",
         null,
         "1000",
         "['constructive algorithms', 'greedy']"
        ],
        [
         "24",
         "2091",
         "B",
         "Team Training",
         "PROGRAMMING",
         null,
         "800",
         "['dp', 'greedy', 'sortings']"
        ],
        [
         "25",
         "2091",
         "A",
         "Olympiad Date",
         "PROGRAMMING",
         null,
         "800",
         "['greedy', 'strings']"
        ],
        [
         "26",
         "1077",
         "C",
         "Good Array",
         "PROGRAMMING",
         null,
         "1300",
         "[]"
        ],
        [
         "27",
         "1077",
         "C",
         "Good Array",
         "PROGRAMMING",
         null,
         "1300",
         "[]"
        ],
        [
         "28",
         "1077",
         "C",
         "Good Array",
         "PROGRAMMING",
         null,
         "1300",
         "[]"
        ],
        [
         "29",
         "1119",
         "B",
         "Alyona and a Narrow Fridge",
         "PROGRAMMING",
         "1000.0",
         "1300",
         "['binary search', 'flows', 'greedy', 'sortings']"
        ],
        [
         "30",
         "1119",
         "B",
         "Alyona and a Narrow Fridge",
         "PROGRAMMING",
         "1000.0",
         "1300",
         "['binary search', 'flows', 'greedy', 'sortings']"
        ],
        [
         "31",
         "1178",
         "B",
         "WOW Factor",
         "PROGRAMMING",
         "750.0",
         "1300",
         "['dp', 'strings']"
        ],
        [
         "32",
         "1237",
         "B",
         "Balanced Tunnel",
         "PROGRAMMING",
         "750.0",
         "1300",
         "['data structures', 'sortings', 'two pointers']"
        ],
        [
         "33",
         "2074",
         "E",
         "Empty Triangle",
         "PROGRAMMING",
         null,
         "1600",
         "['geometry', 'interactive', 'probabilities']"
        ],
        [
         "34",
         "2074",
         "E",
         "Empty Triangle",
         "PROGRAMMING",
         null,
         "1600",
         "['geometry', 'interactive', 'probabilities']"
        ],
        [
         "35",
         "1285",
         "B",
         "Just Eat It!",
         "PROGRAMMING",
         "1000.0",
         "1300",
         "['dp', 'greedy', 'implementation']"
        ],
        [
         "36",
         "2075",
         "D",
         "Equalization",
         "PROGRAMMING",
         null,
         "2000",
         "['bitmasks', 'brute force', 'dp', 'graphs', 'math']"
        ],
        [
         "37",
         "2075",
         "D",
         "Equalization",
         "PROGRAMMING",
         null,
         "2000",
         "['bitmasks', 'brute force', 'dp', 'graphs', 'math']"
        ],
        [
         "38",
         "2075",
         "C",
         "Two Colors",
         "PROGRAMMING",
         null,
         "1500",
         "['binary search', 'combinatorics', 'math']"
        ],
        [
         "39",
         "2075",
         "B",
         "Array Recoloring",
         "PROGRAMMING",
         null,
         "1300",
         "['constructive algorithms', 'greedy']"
        ],
        [
         "40",
         "2075",
         "A",
         "To Zero",
         "PROGRAMMING",
         null,
         "800",
         "['greedy', 'math']"
        ],
        [
         "41",
         "1294",
         "C",
         "Product of Three Numbers",
         "PROGRAMMING",
         null,
         "1300",
         "['greedy', 'math', 'number theory']"
        ],
        [
         "42",
         "1360",
         "D",
         "Buying Shovels",
         "PROGRAMMING",
         null,
         "1300",
         "['math', 'number theory']"
        ],
        [
         "43",
         "1364",
         "B",
         "Most socially-distanced subsequence",
         "PROGRAMMING",
         "1000.0",
         "1300",
         "['greedy', 'two pointers']"
        ],
        [
         "44",
         "1364",
         "B",
         "Most socially-distanced subsequence",
         "PROGRAMMING",
         "1000.0",
         "1300",
         "['greedy', 'two pointers']"
        ],
        [
         "45",
         "1366",
         "B",
         "Shuffle",
         "PROGRAMMING",
         null,
         "1300",
         "['math', 'two pointers']"
        ],
        [
         "46",
         "1372",
         "B",
         "Omkar and Last Class of Math",
         "PROGRAMMING",
         "1000.0",
         "1300",
         "['greedy', 'math', 'number theory']"
        ],
        [
         "47",
         "1470",
         "A",
         "Strange Birthday Party",
         "PROGRAMMING",
         "500.0",
         "1300",
         "['binary search', 'dp', 'greedy', 'sortings', 'two pointers']"
        ],
        [
         "48",
         "1470",
         "A",
         "Strange Birthday Party",
         "PROGRAMMING",
         "500.0",
         "1300",
         "['binary search', 'dp', 'greedy', 'sortings', 'two pointers']"
        ],
        [
         "49",
         "1498",
         "B",
         "Box Fitting",
         "PROGRAMMING",
         "1000.0",
         "1300",
         "['binary search', 'bitmasks', 'data structures', 'greedy']"
        ]
       ],
       "shape": {
        "columns": 7,
        "rows": 184
       }
      },
      "text/html": [
       "<div>\n",
       "<style scoped>\n",
       "    .dataframe tbody tr th:only-of-type {\n",
       "        vertical-align: middle;\n",
       "    }\n",
       "\n",
       "    .dataframe tbody tr th {\n",
       "        vertical-align: top;\n",
       "    }\n",
       "\n",
       "    .dataframe thead th {\n",
       "        text-align: right;\n",
       "    }\n",
       "</style>\n",
       "<table border=\"1\" class=\"dataframe\">\n",
       "  <thead>\n",
       "    <tr style=\"text-align: right;\">\n",
       "      <th></th>\n",
       "      <th>contestId</th>\n",
       "      <th>index</th>\n",
       "      <th>name</th>\n",
       "      <th>type</th>\n",
       "      <th>points</th>\n",
       "      <th>rating</th>\n",
       "      <th>tags</th>\n",
       "    </tr>\n",
       "  </thead>\n",
       "  <tbody>\n",
       "    <tr>\n",
       "      <th>0</th>\n",
       "      <td>2092</td>\n",
       "      <td>D</td>\n",
       "      <td>Mishkin Energizer</td>\n",
       "      <td>PROGRAMMING</td>\n",
       "      <td>1750.0</td>\n",
       "      <td>1800</td>\n",
       "      <td>[brute force, constructive algorithms, greedy,...</td>\n",
       "    </tr>\n",
       "    <tr>\n",
       "      <th>1</th>\n",
       "      <td>2092</td>\n",
       "      <td>D</td>\n",
       "      <td>Mishkin Energizer</td>\n",
       "      <td>PROGRAMMING</td>\n",
       "      <td>1750.0</td>\n",
       "      <td>1800</td>\n",
       "      <td>[brute force, constructive algorithms, greedy,...</td>\n",
       "    </tr>\n",
       "    <tr>\n",
       "      <th>2</th>\n",
       "      <td>2092</td>\n",
       "      <td>C</td>\n",
       "      <td>Asuna and the Mosquitoes</td>\n",
       "      <td>PROGRAMMING</td>\n",
       "      <td>1250.0</td>\n",
       "      <td>1200</td>\n",
       "      <td>[constructive algorithms, greedy, math]</td>\n",
       "    </tr>\n",
       "    <tr>\n",
       "      <th>3</th>\n",
       "      <td>2092</td>\n",
       "      <td>C</td>\n",
       "      <td>Asuna and the Mosquitoes</td>\n",
       "      <td>PROGRAMMING</td>\n",
       "      <td>1250.0</td>\n",
       "      <td>1200</td>\n",
       "      <td>[constructive algorithms, greedy, math]</td>\n",
       "    </tr>\n",
       "    <tr>\n",
       "      <th>4</th>\n",
       "      <td>2092</td>\n",
       "      <td>B</td>\n",
       "      <td>Lady Bug</td>\n",
       "      <td>PROGRAMMING</td>\n",
       "      <td>750.0</td>\n",
       "      <td>1000</td>\n",
       "      <td>[brute force, constructive algorithms, impleme...</td>\n",
       "    </tr>\n",
       "    <tr>\n",
       "      <th>...</th>\n",
       "      <td>...</td>\n",
       "      <td>...</td>\n",
       "      <td>...</td>\n",
       "      <td>...</td>\n",
       "      <td>...</td>\n",
       "      <td>...</td>\n",
       "      <td>...</td>\n",
       "    </tr>\n",
       "    <tr>\n",
       "      <th>179</th>\n",
       "      <td>2033</td>\n",
       "      <td>F</td>\n",
       "      <td>Kosuke's Sloth</td>\n",
       "      <td>PROGRAMMING</td>\n",
       "      <td>NaN</td>\n",
       "      <td>1800</td>\n",
       "      <td>[brute force, math, number theory]</td>\n",
       "    </tr>\n",
       "    <tr>\n",
       "      <th>180</th>\n",
       "      <td>2033</td>\n",
       "      <td>F</td>\n",
       "      <td>Kosuke's Sloth</td>\n",
       "      <td>PROGRAMMING</td>\n",
       "      <td>NaN</td>\n",
       "      <td>1800</td>\n",
       "      <td>[brute force, math, number theory]</td>\n",
       "    </tr>\n",
       "    <tr>\n",
       "      <th>181</th>\n",
       "      <td>2033</td>\n",
       "      <td>F</td>\n",
       "      <td>Kosuke's Sloth</td>\n",
       "      <td>PROGRAMMING</td>\n",
       "      <td>NaN</td>\n",
       "      <td>1800</td>\n",
       "      <td>[brute force, math, number theory]</td>\n",
       "    </tr>\n",
       "    <tr>\n",
       "      <th>182</th>\n",
       "      <td>2033</td>\n",
       "      <td>F</td>\n",
       "      <td>Kosuke's Sloth</td>\n",
       "      <td>PROGRAMMING</td>\n",
       "      <td>NaN</td>\n",
       "      <td>1800</td>\n",
       "      <td>[brute force, math, number theory]</td>\n",
       "    </tr>\n",
       "    <tr>\n",
       "      <th>183</th>\n",
       "      <td>2033</td>\n",
       "      <td>F</td>\n",
       "      <td>Kosuke's Sloth</td>\n",
       "      <td>PROGRAMMING</td>\n",
       "      <td>NaN</td>\n",
       "      <td>1800</td>\n",
       "      <td>[brute force, math, number theory]</td>\n",
       "    </tr>\n",
       "  </tbody>\n",
       "</table>\n",
       "<p>184 rows × 7 columns</p>\n",
       "</div>"
      ],
      "text/plain": [
       "     contestId index                      name         type  points  rating  \\\n",
       "0         2092     D         Mishkin Energizer  PROGRAMMING  1750.0    1800   \n",
       "1         2092     D         Mishkin Energizer  PROGRAMMING  1750.0    1800   \n",
       "2         2092     C  Asuna and the Mosquitoes  PROGRAMMING  1250.0    1200   \n",
       "3         2092     C  Asuna and the Mosquitoes  PROGRAMMING  1250.0    1200   \n",
       "4         2092     B                  Lady Bug  PROGRAMMING   750.0    1000   \n",
       "..         ...   ...                       ...          ...     ...     ...   \n",
       "179       2033     F            Kosuke's Sloth  PROGRAMMING     NaN    1800   \n",
       "180       2033     F            Kosuke's Sloth  PROGRAMMING     NaN    1800   \n",
       "181       2033     F            Kosuke's Sloth  PROGRAMMING     NaN    1800   \n",
       "182       2033     F            Kosuke's Sloth  PROGRAMMING     NaN    1800   \n",
       "183       2033     F            Kosuke's Sloth  PROGRAMMING     NaN    1800   \n",
       "\n",
       "                                                  tags  \n",
       "0    [brute force, constructive algorithms, greedy,...  \n",
       "1    [brute force, constructive algorithms, greedy,...  \n",
       "2              [constructive algorithms, greedy, math]  \n",
       "3              [constructive algorithms, greedy, math]  \n",
       "4    [brute force, constructive algorithms, impleme...  \n",
       "..                                                 ...  \n",
       "179                 [brute force, math, number theory]  \n",
       "180                 [brute force, math, number theory]  \n",
       "181                 [brute force, math, number theory]  \n",
       "182                 [brute force, math, number theory]  \n",
       "183                 [brute force, math, number theory]  \n",
       "\n",
       "[184 rows x 7 columns]"
      ]
     },
     "execution_count": 106,
     "metadata": {},
     "output_type": "execute_result"
    }
   ],
   "source": [
    "submission_problem_response = [row['problem'] for row in response_submission_data['result']]\n",
    "submission_problem_data = pd.DataFrame(submission_problem_response)\n",
    "submission_problem_data"
   ]
  },
  {
   "cell_type": "markdown",
   "id": "81aee9fe",
   "metadata": {},
   "source": [
    "#### Here also looking for columns\n",
    "##### The column contestId,index,name are useless\n",
    "##### The type column is normally useless as its almost always PROGRAMMING (by design)\n",
    "##### We have the column points which shows that how much the user got score for submitting that problem. Here we are looking for the practice so that is useless and its mostly would be nan (by design as people mostly solve much more number quiestions as practice in these platforms than giving contests)\n",
    "##### the columns rating and tags are super useful to determine the quality of user's practice"
   ]
  },
  {
   "cell_type": "code",
   "execution_count": 107,
   "id": "e210b6d9",
   "metadata": {},
   "outputs": [],
   "source": [
    "problem_data_columns_to_drop = ['contestId','index','name','type','points']\n",
    "submission_problem_data.drop(columns=problem_data_columns_to_drop,inplace=True)"
   ]
  },
  {
   "cell_type": "code",
   "execution_count": 108,
   "id": "a7105a31",
   "metadata": {},
   "outputs": [
    {
     "data": {
      "application/vnd.microsoft.datawrangler.viewer.v0+json": {
       "columns": [
        {
         "name": "index",
         "rawType": "int64",
         "type": "integer"
        },
        {
         "name": "rating",
         "rawType": "int64",
         "type": "integer"
        },
        {
         "name": "tags",
         "rawType": "object",
         "type": "unknown"
        }
       ],
       "conversionMethod": "pd.DataFrame",
       "ref": "3544fd39-1ff3-4e2e-bbfe-4b20d0be99b9",
       "rows": [
        [
         "0",
         "1800",
         "['brute force', 'constructive algorithms', 'greedy', 'implementation', 'strings']"
        ],
        [
         "1",
         "1800",
         "['brute force', 'constructive algorithms', 'greedy', 'implementation', 'strings']"
        ],
        [
         "2",
         "1200",
         "['constructive algorithms', 'greedy', 'math']"
        ],
        [
         "3",
         "1200",
         "['constructive algorithms', 'greedy', 'math']"
        ],
        [
         "4",
         "1000",
         "['brute force', 'constructive algorithms', 'implementation', 'math']"
        ],
        [
         "5",
         "800",
         "['greedy', 'math', 'number theory', 'sortings']"
        ],
        [
         "6",
         "1500",
         "['binary search', 'bitmasks', 'data structures', 'dp']"
        ],
        [
         "7",
         "1500",
         "['dp']"
        ],
        [
         "8",
         "1500",
         "['dp']"
        ],
        [
         "9",
         "1500",
         "['dp']"
        ],
        [
         "10",
         "1500",
         "['binary search', 'constructive algorithms', 'greedy', 'sortings', 'two pointers']"
        ],
        [
         "11",
         "1500",
         "['binary search', 'constructive algorithms', 'greedy', 'sortings', 'two pointers']"
        ],
        [
         "12",
         "1500",
         "['binary search', 'constructive algorithms', 'greedy', 'sortings', 'two pointers']"
        ],
        [
         "13",
         "1500",
         "['binary search', 'constructive algorithms', 'greedy', 'sortings', 'two pointers']"
        ],
        [
         "14",
         "1500",
         "['binary search', 'constructive algorithms', 'greedy', 'sortings', 'two pointers']"
        ],
        [
         "15",
         "1500",
         "['data structures', 'divide and conquer', 'sortings']"
        ],
        [
         "16",
         "1500",
         "['data structures', 'divide and conquer', 'sortings']"
        ],
        [
         "17",
         "1500",
         "['data structures', 'divide and conquer', 'sortings']"
        ],
        [
         "18",
         "1800",
         "['binary search', 'brute force', 'dp']"
        ],
        [
         "19",
         "2300",
         "['brute force', 'constructive algorithms', 'data structures', 'dp', 'graphs', 'greedy', 'math', 'number theory', 'shortest paths']"
        ],
        [
         "20",
         "1800",
         "['binary search', 'brute force', 'dp']"
        ],
        [
         "21",
         "1300",
         "['brute force', 'math', 'number theory', 'two pointers']"
        ],
        [
         "22",
         "1200",
         "['binary search', 'greedy', 'math']"
        ],
        [
         "23",
         "1000",
         "['constructive algorithms', 'greedy']"
        ],
        [
         "24",
         "800",
         "['dp', 'greedy', 'sortings']"
        ],
        [
         "25",
         "800",
         "['greedy', 'strings']"
        ],
        [
         "26",
         "1300",
         "[]"
        ],
        [
         "27",
         "1300",
         "[]"
        ],
        [
         "28",
         "1300",
         "[]"
        ],
        [
         "29",
         "1300",
         "['binary search', 'flows', 'greedy', 'sortings']"
        ],
        [
         "30",
         "1300",
         "['binary search', 'flows', 'greedy', 'sortings']"
        ],
        [
         "31",
         "1300",
         "['dp', 'strings']"
        ],
        [
         "32",
         "1300",
         "['data structures', 'sortings', 'two pointers']"
        ],
        [
         "33",
         "1600",
         "['geometry', 'interactive', 'probabilities']"
        ],
        [
         "34",
         "1600",
         "['geometry', 'interactive', 'probabilities']"
        ],
        [
         "35",
         "1300",
         "['dp', 'greedy', 'implementation']"
        ],
        [
         "36",
         "2000",
         "['bitmasks', 'brute force', 'dp', 'graphs', 'math']"
        ],
        [
         "37",
         "2000",
         "['bitmasks', 'brute force', 'dp', 'graphs', 'math']"
        ],
        [
         "38",
         "1500",
         "['binary search', 'combinatorics', 'math']"
        ],
        [
         "39",
         "1300",
         "['constructive algorithms', 'greedy']"
        ],
        [
         "40",
         "800",
         "['greedy', 'math']"
        ],
        [
         "41",
         "1300",
         "['greedy', 'math', 'number theory']"
        ],
        [
         "42",
         "1300",
         "['math', 'number theory']"
        ],
        [
         "43",
         "1300",
         "['greedy', 'two pointers']"
        ],
        [
         "44",
         "1300",
         "['greedy', 'two pointers']"
        ],
        [
         "45",
         "1300",
         "['math', 'two pointers']"
        ],
        [
         "46",
         "1300",
         "['greedy', 'math', 'number theory']"
        ],
        [
         "47",
         "1300",
         "['binary search', 'dp', 'greedy', 'sortings', 'two pointers']"
        ],
        [
         "48",
         "1300",
         "['binary search', 'dp', 'greedy', 'sortings', 'two pointers']"
        ],
        [
         "49",
         "1300",
         "['binary search', 'bitmasks', 'data structures', 'greedy']"
        ]
       ],
       "shape": {
        "columns": 2,
        "rows": 184
       }
      },
      "text/html": [
       "<div>\n",
       "<style scoped>\n",
       "    .dataframe tbody tr th:only-of-type {\n",
       "        vertical-align: middle;\n",
       "    }\n",
       "\n",
       "    .dataframe tbody tr th {\n",
       "        vertical-align: top;\n",
       "    }\n",
       "\n",
       "    .dataframe thead th {\n",
       "        text-align: right;\n",
       "    }\n",
       "</style>\n",
       "<table border=\"1\" class=\"dataframe\">\n",
       "  <thead>\n",
       "    <tr style=\"text-align: right;\">\n",
       "      <th></th>\n",
       "      <th>rating</th>\n",
       "      <th>tags</th>\n",
       "    </tr>\n",
       "  </thead>\n",
       "  <tbody>\n",
       "    <tr>\n",
       "      <th>0</th>\n",
       "      <td>1800</td>\n",
       "      <td>[brute force, constructive algorithms, greedy,...</td>\n",
       "    </tr>\n",
       "    <tr>\n",
       "      <th>1</th>\n",
       "      <td>1800</td>\n",
       "      <td>[brute force, constructive algorithms, greedy,...</td>\n",
       "    </tr>\n",
       "    <tr>\n",
       "      <th>2</th>\n",
       "      <td>1200</td>\n",
       "      <td>[constructive algorithms, greedy, math]</td>\n",
       "    </tr>\n",
       "    <tr>\n",
       "      <th>3</th>\n",
       "      <td>1200</td>\n",
       "      <td>[constructive algorithms, greedy, math]</td>\n",
       "    </tr>\n",
       "    <tr>\n",
       "      <th>4</th>\n",
       "      <td>1000</td>\n",
       "      <td>[brute force, constructive algorithms, impleme...</td>\n",
       "    </tr>\n",
       "    <tr>\n",
       "      <th>...</th>\n",
       "      <td>...</td>\n",
       "      <td>...</td>\n",
       "    </tr>\n",
       "    <tr>\n",
       "      <th>179</th>\n",
       "      <td>1800</td>\n",
       "      <td>[brute force, math, number theory]</td>\n",
       "    </tr>\n",
       "    <tr>\n",
       "      <th>180</th>\n",
       "      <td>1800</td>\n",
       "      <td>[brute force, math, number theory]</td>\n",
       "    </tr>\n",
       "    <tr>\n",
       "      <th>181</th>\n",
       "      <td>1800</td>\n",
       "      <td>[brute force, math, number theory]</td>\n",
       "    </tr>\n",
       "    <tr>\n",
       "      <th>182</th>\n",
       "      <td>1800</td>\n",
       "      <td>[brute force, math, number theory]</td>\n",
       "    </tr>\n",
       "    <tr>\n",
       "      <th>183</th>\n",
       "      <td>1800</td>\n",
       "      <td>[brute force, math, number theory]</td>\n",
       "    </tr>\n",
       "  </tbody>\n",
       "</table>\n",
       "<p>184 rows × 2 columns</p>\n",
       "</div>"
      ],
      "text/plain": [
       "     rating                                               tags\n",
       "0      1800  [brute force, constructive algorithms, greedy,...\n",
       "1      1800  [brute force, constructive algorithms, greedy,...\n",
       "2      1200            [constructive algorithms, greedy, math]\n",
       "3      1200            [constructive algorithms, greedy, math]\n",
       "4      1000  [brute force, constructive algorithms, impleme...\n",
       "..      ...                                                ...\n",
       "179    1800                 [brute force, math, number theory]\n",
       "180    1800                 [brute force, math, number theory]\n",
       "181    1800                 [brute force, math, number theory]\n",
       "182    1800                 [brute force, math, number theory]\n",
       "183    1800                 [brute force, math, number theory]\n",
       "\n",
       "[184 rows x 2 columns]"
      ]
     },
     "execution_count": 108,
     "metadata": {},
     "output_type": "execute_result"
    }
   ],
   "source": [
    "submission_problem_data"
   ]
  },
  {
   "cell_type": "code",
   "execution_count": 109,
   "id": "8774d418",
   "metadata": {},
   "outputs": [
    {
     "data": {
      "application/vnd.microsoft.datawrangler.viewer.v0+json": {
       "columns": [
        {
         "name": "index",
         "rawType": "int64",
         "type": "integer"
        },
        {
         "name": "id",
         "rawType": "int64",
         "type": "integer"
        },
        {
         "name": "creationTimeSeconds",
         "rawType": "int64",
         "type": "integer"
        },
        {
         "name": "verdict",
         "rawType": "object",
         "type": "string"
        },
        {
         "name": "rating",
         "rawType": "int64",
         "type": "integer"
        },
        {
         "name": "tags",
         "rawType": "object",
         "type": "unknown"
        }
       ],
       "conversionMethod": "pd.DataFrame",
       "ref": "7521143e-1eb4-4e3b-b4ba-034ec9357f57",
       "rows": [
        [
         "0",
         "313132413",
         "1743340536",
         "OK",
         "1800",
         "['brute force', 'constructive algorithms', 'greedy', 'implementation', 'strings']"
        ],
        [
         "1",
         "313131884",
         "1743340231",
         "WRONG_ANSWER",
         "1800",
         "['brute force', 'constructive algorithms', 'greedy', 'implementation', 'strings']"
        ],
        [
         "2",
         "313128656",
         "1743338542",
         "OK",
         "1200",
         "['constructive algorithms', 'greedy', 'math']"
        ],
        [
         "3",
         "313128532",
         "1743338473",
         "WRONG_ANSWER",
         "1200",
         "['constructive algorithms', 'greedy', 'math']"
        ],
        [
         "4",
         "313126319",
         "1743337188",
         "OK",
         "1000",
         "['brute force', 'constructive algorithms', 'implementation', 'math']"
        ],
        [
         "5",
         "313124737",
         "1743336308",
         "OK",
         "800",
         "['greedy', 'math', 'number theory', 'sortings']"
        ],
        [
         "6",
         "312944686",
         "1743256363",
         "OK",
         "1500",
         "['binary search', 'bitmasks', 'data structures', 'dp']"
        ],
        [
         "7",
         "312939414",
         "1743253447",
         "OK",
         "1500",
         "['dp']"
        ],
        [
         "8",
         "312938949",
         "1743253194",
         "MEMORY_LIMIT_EXCEEDED",
         "1500",
         "['dp']"
        ],
        [
         "9",
         "312938667",
         "1743253054",
         "TIME_LIMIT_EXCEEDED",
         "1500",
         "['dp']"
        ],
        [
         "10",
         "312824917",
         "1743177134",
         "OK",
         "1500",
         "['binary search', 'constructive algorithms', 'greedy', 'sortings', 'two pointers']"
        ],
        [
         "11",
         "312824086",
         "1743176725",
         "WRONG_ANSWER",
         "1500",
         "['binary search', 'constructive algorithms', 'greedy', 'sortings', 'two pointers']"
        ],
        [
         "12",
         "312823630",
         "1743176496",
         "TIME_LIMIT_EXCEEDED",
         "1500",
         "['binary search', 'constructive algorithms', 'greedy', 'sortings', 'two pointers']"
        ],
        [
         "13",
         "312823278",
         "1743176311",
         "WRONG_ANSWER",
         "1500",
         "['binary search', 'constructive algorithms', 'greedy', 'sortings', 'two pointers']"
        ],
        [
         "14",
         "312814058",
         "1743171751",
         "WRONG_ANSWER",
         "1500",
         "['binary search', 'constructive algorithms', 'greedy', 'sortings', 'two pointers']"
        ],
        [
         "15",
         "312799153",
         "1743165075",
         "OK",
         "1500",
         "['data structures', 'divide and conquer', 'sortings']"
        ],
        [
         "16",
         "312798829",
         "1743164920",
         "WRONG_ANSWER",
         "1500",
         "['data structures', 'divide and conquer', 'sortings']"
        ],
        [
         "17",
         "312798667",
         "1743164848",
         "TIME_LIMIT_EXCEEDED",
         "1500",
         "['data structures', 'divide and conquer', 'sortings']"
        ],
        [
         "18",
         "312594970",
         "1743004781",
         "OK",
         "1800",
         "['binary search', 'brute force', 'dp']"
        ],
        [
         "19",
         "312460789",
         "1742920872",
         "TIME_LIMIT_EXCEEDED",
         "2300",
         "['brute force', 'constructive algorithms', 'data structures', 'dp', 'graphs', 'greedy', 'math', 'number theory', 'shortest paths']"
        ],
        [
         "20",
         "312415714",
         "1742917131",
         "TIME_LIMIT_EXCEEDED",
         "1800",
         "['binary search', 'brute force', 'dp']"
        ],
        [
         "21",
         "312398025",
         "1742916132",
         "OK",
         "1300",
         "['brute force', 'math', 'number theory', 'two pointers']"
        ],
        [
         "22",
         "312386974",
         "1742915597",
         "OK",
         "1200",
         "['binary search', 'greedy', 'math']"
        ],
        [
         "23",
         "312377183",
         "1742915160",
         "OK",
         "1000",
         "['constructive algorithms', 'greedy']"
        ],
        [
         "24",
         "312362573",
         "1742914556",
         "OK",
         "800",
         "['dp', 'greedy', 'sortings']"
        ],
        [
         "25",
         "312354811",
         "1742914265",
         "OK",
         "800",
         "['greedy', 'strings']"
        ],
        [
         "26",
         "311683601",
         "1742574241",
         "OK",
         "1300",
         "[]"
        ],
        [
         "27",
         "311682723",
         "1742573838",
         "WRONG_ANSWER",
         "1300",
         "[]"
        ],
        [
         "28",
         "311682577",
         "1742573761",
         "WRONG_ANSWER",
         "1300",
         "[]"
        ],
        [
         "29",
         "311559774",
         "1742487655",
         "WRONG_ANSWER",
         "1300",
         "['binary search', 'flows', 'greedy', 'sortings']"
        ],
        [
         "30",
         "311558474",
         "1742487069",
         "WRONG_ANSWER",
         "1300",
         "['binary search', 'flows', 'greedy', 'sortings']"
        ],
        [
         "31",
         "311549622",
         "1742483131",
         "OK",
         "1300",
         "['dp', 'strings']"
        ],
        [
         "32",
         "311544863",
         "1742481139",
         "OK",
         "1300",
         "['data structures', 'sortings', 'two pointers']"
        ],
        [
         "33",
         "311535069",
         "1742476941",
         "OK",
         "1600",
         "['geometry', 'interactive', 'probabilities']"
        ],
        [
         "34",
         "311532123",
         "1742475655",
         "TIME_LIMIT_EXCEEDED",
         "1600",
         "['geometry', 'interactive', 'probabilities']"
        ],
        [
         "35",
         "311475044",
         "1742442756",
         "OK",
         "1300",
         "['dp', 'greedy', 'implementation']"
        ],
        [
         "36",
         "311242155",
         "1742295864",
         "OK",
         "2000",
         "['bitmasks', 'brute force', 'dp', 'graphs', 'math']"
        ],
        [
         "37",
         "311131106",
         "1742228607",
         "WRONG_ANSWER",
         "2000",
         "['bitmasks', 'brute force', 'dp', 'graphs', 'math']"
        ],
        [
         "38",
         "311088474",
         "1742225185",
         "OK",
         "1500",
         "['binary search', 'combinatorics', 'math']"
        ],
        [
         "39",
         "311066556",
         "1742223716",
         "OK",
         "1300",
         "['constructive algorithms', 'greedy']"
        ],
        [
         "40",
         "311052434",
         "1742222891",
         "OK",
         "800",
         "['greedy', 'math']"
        ],
        [
         "41",
         "311029117",
         "1742216917",
         "OK",
         "1300",
         "['greedy', 'math', 'number theory']"
        ],
        [
         "42",
         "311026488",
         "1742215706",
         "OK",
         "1300",
         "['math', 'number theory']"
        ],
        [
         "43",
         "311024174",
         "1742214580",
         "OK",
         "1300",
         "['greedy', 'two pointers']"
        ],
        [
         "44",
         "311023956",
         "1742214487",
         "WRONG_ANSWER",
         "1300",
         "['greedy', 'two pointers']"
        ],
        [
         "45",
         "310992575",
         "1742197464",
         "OK",
         "1300",
         "['math', 'two pointers']"
        ],
        [
         "46",
         "310991112",
         "1742196427",
         "OK",
         "1300",
         "['greedy', 'math', 'number theory']"
        ],
        [
         "47",
         "310931410",
         "1742146428",
         "OK",
         "1300",
         "['binary search', 'dp', 'greedy', 'sortings', 'two pointers']"
        ],
        [
         "48",
         "310931260",
         "1742146356",
         "WRONG_ANSWER",
         "1300",
         "['binary search', 'dp', 'greedy', 'sortings', 'two pointers']"
        ],
        [
         "49",
         "310877229",
         "1742120256",
         "OK",
         "1300",
         "['binary search', 'bitmasks', 'data structures', 'greedy']"
        ]
       ],
       "shape": {
        "columns": 5,
        "rows": 184
       }
      },
      "text/html": [
       "<div>\n",
       "<style scoped>\n",
       "    .dataframe tbody tr th:only-of-type {\n",
       "        vertical-align: middle;\n",
       "    }\n",
       "\n",
       "    .dataframe tbody tr th {\n",
       "        vertical-align: top;\n",
       "    }\n",
       "\n",
       "    .dataframe thead th {\n",
       "        text-align: right;\n",
       "    }\n",
       "</style>\n",
       "<table border=\"1\" class=\"dataframe\">\n",
       "  <thead>\n",
       "    <tr style=\"text-align: right;\">\n",
       "      <th></th>\n",
       "      <th>id</th>\n",
       "      <th>creationTimeSeconds</th>\n",
       "      <th>verdict</th>\n",
       "      <th>rating</th>\n",
       "      <th>tags</th>\n",
       "    </tr>\n",
       "  </thead>\n",
       "  <tbody>\n",
       "    <tr>\n",
       "      <th>0</th>\n",
       "      <td>313132413</td>\n",
       "      <td>1743340536</td>\n",
       "      <td>OK</td>\n",
       "      <td>1800</td>\n",
       "      <td>[brute force, constructive algorithms, greedy,...</td>\n",
       "    </tr>\n",
       "    <tr>\n",
       "      <th>1</th>\n",
       "      <td>313131884</td>\n",
       "      <td>1743340231</td>\n",
       "      <td>WRONG_ANSWER</td>\n",
       "      <td>1800</td>\n",
       "      <td>[brute force, constructive algorithms, greedy,...</td>\n",
       "    </tr>\n",
       "    <tr>\n",
       "      <th>2</th>\n",
       "      <td>313128656</td>\n",
       "      <td>1743338542</td>\n",
       "      <td>OK</td>\n",
       "      <td>1200</td>\n",
       "      <td>[constructive algorithms, greedy, math]</td>\n",
       "    </tr>\n",
       "    <tr>\n",
       "      <th>3</th>\n",
       "      <td>313128532</td>\n",
       "      <td>1743338473</td>\n",
       "      <td>WRONG_ANSWER</td>\n",
       "      <td>1200</td>\n",
       "      <td>[constructive algorithms, greedy, math]</td>\n",
       "    </tr>\n",
       "    <tr>\n",
       "      <th>4</th>\n",
       "      <td>313126319</td>\n",
       "      <td>1743337188</td>\n",
       "      <td>OK</td>\n",
       "      <td>1000</td>\n",
       "      <td>[brute force, constructive algorithms, impleme...</td>\n",
       "    </tr>\n",
       "    <tr>\n",
       "      <th>...</th>\n",
       "      <td>...</td>\n",
       "      <td>...</td>\n",
       "      <td>...</td>\n",
       "      <td>...</td>\n",
       "      <td>...</td>\n",
       "    </tr>\n",
       "    <tr>\n",
       "      <th>179</th>\n",
       "      <td>287834967</td>\n",
       "      <td>1729806133</td>\n",
       "      <td>COMPILATION_ERROR</td>\n",
       "      <td>1800</td>\n",
       "      <td>[brute force, math, number theory]</td>\n",
       "    </tr>\n",
       "    <tr>\n",
       "      <th>180</th>\n",
       "      <td>287833502</td>\n",
       "      <td>1729804720</td>\n",
       "      <td>TIME_LIMIT_EXCEEDED</td>\n",
       "      <td>1800</td>\n",
       "      <td>[brute force, math, number theory]</td>\n",
       "    </tr>\n",
       "    <tr>\n",
       "      <th>181</th>\n",
       "      <td>287832873</td>\n",
       "      <td>1729804153</td>\n",
       "      <td>TIME_LIMIT_EXCEEDED</td>\n",
       "      <td>1800</td>\n",
       "      <td>[brute force, math, number theory]</td>\n",
       "    </tr>\n",
       "    <tr>\n",
       "      <th>182</th>\n",
       "      <td>287832494</td>\n",
       "      <td>1729803829</td>\n",
       "      <td>COMPILATION_ERROR</td>\n",
       "      <td>1800</td>\n",
       "      <td>[brute force, math, number theory]</td>\n",
       "    </tr>\n",
       "    <tr>\n",
       "      <th>183</th>\n",
       "      <td>287832389</td>\n",
       "      <td>1729803747</td>\n",
       "      <td>COMPILATION_ERROR</td>\n",
       "      <td>1800</td>\n",
       "      <td>[brute force, math, number theory]</td>\n",
       "    </tr>\n",
       "  </tbody>\n",
       "</table>\n",
       "<p>184 rows × 5 columns</p>\n",
       "</div>"
      ],
      "text/plain": [
       "            id  creationTimeSeconds              verdict  rating  \\\n",
       "0    313132413           1743340536                   OK    1800   \n",
       "1    313131884           1743340231         WRONG_ANSWER    1800   \n",
       "2    313128656           1743338542                   OK    1200   \n",
       "3    313128532           1743338473         WRONG_ANSWER    1200   \n",
       "4    313126319           1743337188                   OK    1000   \n",
       "..         ...                  ...                  ...     ...   \n",
       "179  287834967           1729806133    COMPILATION_ERROR    1800   \n",
       "180  287833502           1729804720  TIME_LIMIT_EXCEEDED    1800   \n",
       "181  287832873           1729804153  TIME_LIMIT_EXCEEDED    1800   \n",
       "182  287832494           1729803829    COMPILATION_ERROR    1800   \n",
       "183  287832389           1729803747    COMPILATION_ERROR    1800   \n",
       "\n",
       "                                                  tags  \n",
       "0    [brute force, constructive algorithms, greedy,...  \n",
       "1    [brute force, constructive algorithms, greedy,...  \n",
       "2              [constructive algorithms, greedy, math]  \n",
       "3              [constructive algorithms, greedy, math]  \n",
       "4    [brute force, constructive algorithms, impleme...  \n",
       "..                                                 ...  \n",
       "179                 [brute force, math, number theory]  \n",
       "180                 [brute force, math, number theory]  \n",
       "181                 [brute force, math, number theory]  \n",
       "182                 [brute force, math, number theory]  \n",
       "183                 [brute force, math, number theory]  \n",
       "\n",
       "[184 rows x 5 columns]"
      ]
     },
     "execution_count": 109,
     "metadata": {},
     "output_type": "execute_result"
    }
   ],
   "source": [
    "combined_submission_data = pd.concat([submission_data, submission_problem_data], axis=1)\n",
    "combined_submission_data"
   ]
  },
  {
   "cell_type": "markdown",
   "id": "26604be7",
   "metadata": {},
   "source": [
    "### As the next step what we need to do is\n",
    "#### We should determine the number of problems in each catagory and rating the user did upto a contest along with his at that time rating"
   ]
  },
  {
   "cell_type": "code",
   "execution_count": 110,
   "id": "3a4aace3",
   "metadata": {},
   "outputs": [
    {
     "data": {
      "application/vnd.microsoft.datawrangler.viewer.v0+json": {
       "columns": [
        {
         "name": "index",
         "rawType": "int64",
         "type": "integer"
        },
        {
         "name": "contestId",
         "rawType": "int64",
         "type": "integer"
        },
        {
         "name": "handle",
         "rawType": "object",
         "type": "string"
        },
        {
         "name": "rank",
         "rawType": "int64",
         "type": "integer"
        },
        {
         "name": "oldRating",
         "rawType": "int64",
         "type": "integer"
        },
        {
         "name": "newRating",
         "rawType": "int64",
         "type": "integer"
        }
       ],
       "conversionMethod": "pd.DataFrame",
       "ref": "c049e8b7-e928-4d5e-999e-b292b9a166c6",
       "rows": [
        [
         "0",
         "2070",
         "kingshukpatra11",
         "4024",
         "0",
         "511"
        ],
        [
         "1",
         "2071",
         "kingshukpatra11",
         "6753",
         "511",
         "820"
        ],
        [
         "2",
         "2078",
         "kingshukpatra11",
         "6913",
         "820",
         "1027"
        ],
        [
         "3",
         "2074",
         "kingshukpatra11",
         "1589",
         "1027",
         "1250"
        ],
        [
         "4",
         "2075",
         "kingshukpatra11",
         "1076",
         "1250",
         "1473"
        ],
        [
         "5",
         "2091",
         "kingshukpatra11",
         "1692",
         "1473",
         "1537"
        ]
       ],
       "shape": {
        "columns": 5,
        "rows": 6
       }
      },
      "text/html": [
       "<div>\n",
       "<style scoped>\n",
       "    .dataframe tbody tr th:only-of-type {\n",
       "        vertical-align: middle;\n",
       "    }\n",
       "\n",
       "    .dataframe tbody tr th {\n",
       "        vertical-align: top;\n",
       "    }\n",
       "\n",
       "    .dataframe thead th {\n",
       "        text-align: right;\n",
       "    }\n",
       "</style>\n",
       "<table border=\"1\" class=\"dataframe\">\n",
       "  <thead>\n",
       "    <tr style=\"text-align: right;\">\n",
       "      <th></th>\n",
       "      <th>contestId</th>\n",
       "      <th>handle</th>\n",
       "      <th>rank</th>\n",
       "      <th>oldRating</th>\n",
       "      <th>newRating</th>\n",
       "    </tr>\n",
       "  </thead>\n",
       "  <tbody>\n",
       "    <tr>\n",
       "      <th>0</th>\n",
       "      <td>2070</td>\n",
       "      <td>kingshukpatra11</td>\n",
       "      <td>4024</td>\n",
       "      <td>0</td>\n",
       "      <td>511</td>\n",
       "    </tr>\n",
       "    <tr>\n",
       "      <th>1</th>\n",
       "      <td>2071</td>\n",
       "      <td>kingshukpatra11</td>\n",
       "      <td>6753</td>\n",
       "      <td>511</td>\n",
       "      <td>820</td>\n",
       "    </tr>\n",
       "    <tr>\n",
       "      <th>2</th>\n",
       "      <td>2078</td>\n",
       "      <td>kingshukpatra11</td>\n",
       "      <td>6913</td>\n",
       "      <td>820</td>\n",
       "      <td>1027</td>\n",
       "    </tr>\n",
       "    <tr>\n",
       "      <th>3</th>\n",
       "      <td>2074</td>\n",
       "      <td>kingshukpatra11</td>\n",
       "      <td>1589</td>\n",
       "      <td>1027</td>\n",
       "      <td>1250</td>\n",
       "    </tr>\n",
       "    <tr>\n",
       "      <th>4</th>\n",
       "      <td>2075</td>\n",
       "      <td>kingshukpatra11</td>\n",
       "      <td>1076</td>\n",
       "      <td>1250</td>\n",
       "      <td>1473</td>\n",
       "    </tr>\n",
       "    <tr>\n",
       "      <th>5</th>\n",
       "      <td>2091</td>\n",
       "      <td>kingshukpatra11</td>\n",
       "      <td>1692</td>\n",
       "      <td>1473</td>\n",
       "      <td>1537</td>\n",
       "    </tr>\n",
       "  </tbody>\n",
       "</table>\n",
       "</div>"
      ],
      "text/plain": [
       "   contestId           handle  rank  oldRating  newRating\n",
       "0       2070  kingshukpatra11  4024          0        511\n",
       "1       2071  kingshukpatra11  6753        511        820\n",
       "2       2078  kingshukpatra11  6913        820       1027\n",
       "3       2074  kingshukpatra11  1589       1027       1250\n",
       "4       2075  kingshukpatra11  1076       1250       1473\n",
       "5       2091  kingshukpatra11  1692       1473       1537"
      ]
     },
     "execution_count": 110,
     "metadata": {},
     "output_type": "execute_result"
    }
   ],
   "source": [
    "contest_data"
   ]
  },
  {
   "cell_type": "code",
   "execution_count": 111,
   "id": "7f8cf4ed",
   "metadata": {},
   "outputs": [
    {
     "data": {
      "application/vnd.microsoft.datawrangler.viewer.v0+json": {
       "columns": [
        {
         "name": "index",
         "rawType": "int64",
         "type": "integer"
        },
        {
         "name": "id",
         "rawType": "int64",
         "type": "integer"
        },
        {
         "name": "name",
         "rawType": "object",
         "type": "string"
        },
        {
         "name": "phase",
         "rawType": "object",
         "type": "string"
        },
        {
         "name": "durationSeconds",
         "rawType": "int64",
         "type": "integer"
        },
        {
         "name": "startTimeSeconds",
         "rawType": "int64",
         "type": "integer"
        }
       ],
       "conversionMethod": "pd.DataFrame",
       "ref": "ceadfe73-b969-47d6-93fb-f8284bc9e752",
       "rows": [
        [
         "0",
         "2101",
         "Codeforces Round (Div. 1)",
         "BEFORE",
         "9000",
         "1746974100"
        ],
        [
         "1",
         "2102",
         "Codeforces Round (Div. 2)",
         "BEFORE",
         "9000",
         "1746974100"
        ],
        [
         "2",
         "2099",
         "Codeforces Round (Div. 1)",
         "BEFORE",
         "7200",
         "1746261300"
        ],
        [
         "3",
         "2100",
         "Codeforces Round (Div. 2)",
         "BEFORE",
         "7200",
         "1746261300"
        ],
        [
         "4",
         "2104",
         "Educational Codeforces Round 178 (Rated for Div. 2)",
         "BEFORE",
         "7200",
         "1745850900"
        ],
        [
         "5",
         "2097",
         "Codeforces Round (Div. 1)",
         "BEFORE",
         "9000",
         "1745656500"
        ],
        [
         "6",
         "2098",
         "Codeforces Round (Div. 2)",
         "BEFORE",
         "9000",
         "1745656500"
        ],
        [
         "7",
         "2103",
         "Codeforces Round 1019 (Div. 2)",
         "BEFORE",
         "7200",
         "1745246100"
        ],
        [
         "8",
         "2105",
         "Tact Smart Battle 1",
         "BEFORE",
         "604800",
         "1745226000"
        ],
        [
         "9",
         "2096",
         "Neowise Labs Contest 1 (Codeforces Round 1018, Div. 1 + Div. 2)",
         "BEFORE",
         "7200",
         "1745073300"
        ],
        [
         "10",
         "2094",
         "Codeforces Round 1017 (Div. 4)",
         "FINISHED",
         "8100",
         "1744558500"
        ],
        [
         "11",
         "2093",
         "Codeforces Round 1016 (Div. 3)",
         "FINISHED",
         "8100",
         "1744122900"
        ],
        [
         "12",
         "2087",
         "Kotlin Heroes: Episode 12",
         "FINISHED",
         "9000",
         "1744036500"
        ],
        [
         "13",
         "2084",
         "Teza Round 1 (Codeforces Round 1015, Div. 1 + Div. 2)",
         "FINISHED",
         "10800",
         "1743863700"
        ],
        [
         "14",
         "2086",
         "Educational Codeforces Round 177 (Rated for Div. 2)",
         "FINISHED",
         "7200",
         "1743690900"
        ],
        [
         "15",
         "2095",
         "April Fools Day Contest 2025",
         "FINISHED",
         "7200",
         "1743518100"
        ],
        [
         "16",
         "2088",
         "Kotlin Heroes: Practice 12",
         "FINISHED",
         "604800",
         "1743428100"
        ],
        [
         "17",
         "2092",
         "Codeforces Round 1014 (Div. 2)",
         "FINISHED",
         "7200",
         "1743258900"
        ],
        [
         "18",
         "2091",
         "Codeforces Round 1013 (Div. 3)",
         "FINISHED",
         "8100",
         "1742913300"
        ],
        [
         "19",
         "2089",
         "Codeforces Round 1012 (Div. 1)",
         "FINISHED",
         "9000",
         "1742708100"
        ],
        [
         "20",
         "2090",
         "Codeforces Round 1012 (Div. 2)",
         "FINISHED",
         "9000",
         "1742708100"
        ],
        [
         "21",
         "2085",
         "Codeforces Round 1011 (Div. 2)",
         "FINISHED",
         "7200",
         "1742654100"
        ],
        [
         "22",
         "2075",
         "Educational Codeforces Round 176 (Rated for Div. 2)",
         "FINISHED",
         "7200",
         "1742222100"
        ],
        [
         "23",
         "2081",
         "Codeforces Round 1010 (Div. 1, Unrated)",
         "FINISHED",
         "10800",
         "1742049300"
        ],
        [
         "24",
         "2082",
         "Codeforces Round 1010 (Div. 2, Unrated)",
         "FINISHED",
         "10800",
         "1742049300"
        ],
        [
         "25",
         "2074",
         "Codeforces Round 1009 (Div. 3)",
         "FINISHED",
         "9000",
         "1741703700"
        ],
        [
         "26",
         "2077",
         "Codeforces Round 1008 (Div. 1)",
         "FINISHED",
         "9000",
         "1741617900"
        ],
        [
         "27",
         "2078",
         "Codeforces Round 1008 (Div. 2)",
         "FINISHED",
         "9000",
         "1741617900"
        ],
        [
         "28",
         "2080",
         "XIX Open Olympiad in Informatics - Final Stage, Day 2 (Unrated, Online Mirror, IOI rules)",
         "FINISHED",
         "18000",
         "1741593900"
        ],
        [
         "29",
         "2079",
         "XIX Open Olympiad in Informatics - Final Stage, Day 1 (Unrated, Online Mirror, IOI rules)",
         "FINISHED",
         "18000",
         "1741334700"
        ],
        [
         "30",
         "2068",
         "European Championship 2025 - Online Mirror (Unrated, ICPC Rules, Teams Preferred)",
         "FINISHED",
         "18000",
         "1740911700"
        ],
        [
         "31",
         "2073",
         "2025 ICPC Asia Pacific Championship - Online Mirror (Unrated, Online Mirror, ICPC Rules, Teams Preferred)",
         "FINISHED",
         "18000",
         "1740794700"
        ],
        [
         "32",
         "2071",
         "Codeforces Round 1007 (Div. 2)",
         "FINISHED",
         "8100",
         "1740753300"
        ],
        [
         "33",
         "2070",
         "Educational Codeforces Round 175 (Rated for Div. 2)",
         "FINISHED",
         "7200",
         "1740666900"
        ],
        [
         "34",
         "2072",
         "Codeforces Round 1006 (Div. 3)",
         "FINISHED",
         "8100",
         "1740494100"
        ],
        [
         "35",
         "2069",
         "Educational Codeforces Round 174 (Rated for Div. 2)",
         "FINISHED",
         "7200",
         "1739889300"
        ],
        [
         "36",
         "2064",
         "Codeforces Round 1005 (Div. 2)",
         "FINISHED",
         "7200",
         "1739716500"
        ],
        [
         "37",
         "2066",
         "Codeforces Round 1004 (Div. 1)",
         "FINISHED",
         "7200",
         "1739284500"
        ],
        [
         "38",
         "2067",
         "Codeforces Round 1004 (Div. 2)",
         "FINISHED",
         "7200",
         "1739284500"
        ],
        [
         "39",
         "2065",
         "Codeforces Round 1003 (Div. 4)",
         "FINISHED",
         "8100",
         "1739111700"
        ],
        [
         "40",
         "2059",
         "Codeforces Round 1002 (Div. 2)",
         "FINISHED",
         "7200",
         "1738506900"
        ],
        [
         "41",
         "2062",
         "Ethflow Round 1 (Codeforces Round 1001, Div. 1 + Div. 2)",
         "FINISHED",
         "9000",
         "1737902100"
        ],
        [
         "42",
         "2063",
         "Codeforces Round 1000 (Div. 2)",
         "FINISHED",
         "7200",
         "1737547500"
        ],
        [
         "43",
         "2061",
         "IAEPC Preliminary Contest (Codeforces Round 999, Div. 1 + Div. 2)",
         "FINISHED",
         "10800",
         "1737383700"
        ],
        [
         "44",
         "2060",
         "Codeforces Round 998 (Div. 3)",
         "FINISHED",
         "9000",
         "1737297300"
        ],
        [
         "45",
         "2056",
         "Codeforces Round 997 (Div. 2)",
         "FINISHED",
         "7200",
         "1737124500"
        ],
        [
         "46",
         "2055",
         "Codeforces Round 996 (Div. 2)",
         "FINISHED",
         "7200",
         "1736692500"
        ],
        [
         "47",
         "2057",
         "Hello 2025",
         "FINISHED",
         "9000",
         "1736001300"
        ],
        [
         "48",
         "2053",
         "Good Bye 2024: 2025 is NEAR",
         "FINISHED",
         "10800",
         "1735396500"
        ],
        [
         "49",
         "2043",
         "Educational Codeforces Round 173 (Rated for Div. 2)",
         "FINISHED",
         "7200",
         "1735050900"
        ]
       ],
       "shape": {
        "columns": 5,
        "rows": 1996
       }
      },
      "text/html": [
       "<div>\n",
       "<style scoped>\n",
       "    .dataframe tbody tr th:only-of-type {\n",
       "        vertical-align: middle;\n",
       "    }\n",
       "\n",
       "    .dataframe tbody tr th {\n",
       "        vertical-align: top;\n",
       "    }\n",
       "\n",
       "    .dataframe thead th {\n",
       "        text-align: right;\n",
       "    }\n",
       "</style>\n",
       "<table border=\"1\" class=\"dataframe\">\n",
       "  <thead>\n",
       "    <tr style=\"text-align: right;\">\n",
       "      <th></th>\n",
       "      <th>id</th>\n",
       "      <th>name</th>\n",
       "      <th>phase</th>\n",
       "      <th>durationSeconds</th>\n",
       "      <th>startTimeSeconds</th>\n",
       "    </tr>\n",
       "  </thead>\n",
       "  <tbody>\n",
       "    <tr>\n",
       "      <th>0</th>\n",
       "      <td>2101</td>\n",
       "      <td>Codeforces Round (Div. 1)</td>\n",
       "      <td>BEFORE</td>\n",
       "      <td>9000</td>\n",
       "      <td>1746974100</td>\n",
       "    </tr>\n",
       "    <tr>\n",
       "      <th>1</th>\n",
       "      <td>2102</td>\n",
       "      <td>Codeforces Round (Div. 2)</td>\n",
       "      <td>BEFORE</td>\n",
       "      <td>9000</td>\n",
       "      <td>1746974100</td>\n",
       "    </tr>\n",
       "    <tr>\n",
       "      <th>2</th>\n",
       "      <td>2099</td>\n",
       "      <td>Codeforces Round (Div. 1)</td>\n",
       "      <td>BEFORE</td>\n",
       "      <td>7200</td>\n",
       "      <td>1746261300</td>\n",
       "    </tr>\n",
       "    <tr>\n",
       "      <th>3</th>\n",
       "      <td>2100</td>\n",
       "      <td>Codeforces Round (Div. 2)</td>\n",
       "      <td>BEFORE</td>\n",
       "      <td>7200</td>\n",
       "      <td>1746261300</td>\n",
       "    </tr>\n",
       "    <tr>\n",
       "      <th>4</th>\n",
       "      <td>2104</td>\n",
       "      <td>Educational Codeforces Round 178 (Rated for Di...</td>\n",
       "      <td>BEFORE</td>\n",
       "      <td>7200</td>\n",
       "      <td>1745850900</td>\n",
       "    </tr>\n",
       "    <tr>\n",
       "      <th>...</th>\n",
       "      <td>...</td>\n",
       "      <td>...</td>\n",
       "      <td>...</td>\n",
       "      <td>...</td>\n",
       "      <td>...</td>\n",
       "    </tr>\n",
       "    <tr>\n",
       "      <th>1991</th>\n",
       "      <td>5</td>\n",
       "      <td>Codeforces Beta Round 5</td>\n",
       "      <td>FINISHED</td>\n",
       "      <td>7200</td>\n",
       "      <td>1269100800</td>\n",
       "    </tr>\n",
       "    <tr>\n",
       "      <th>1992</th>\n",
       "      <td>4</td>\n",
       "      <td>Codeforces Beta Round 4 (Div. 2 Only)</td>\n",
       "      <td>FINISHED</td>\n",
       "      <td>7200</td>\n",
       "      <td>1268395200</td>\n",
       "    </tr>\n",
       "    <tr>\n",
       "      <th>1993</th>\n",
       "      <td>3</td>\n",
       "      <td>Codeforces Beta Round 3</td>\n",
       "      <td>FINISHED</td>\n",
       "      <td>7200</td>\n",
       "      <td>1267963200</td>\n",
       "    </tr>\n",
       "    <tr>\n",
       "      <th>1994</th>\n",
       "      <td>2</td>\n",
       "      <td>Codeforces Beta Round 2</td>\n",
       "      <td>FINISHED</td>\n",
       "      <td>7200</td>\n",
       "      <td>1267117200</td>\n",
       "    </tr>\n",
       "    <tr>\n",
       "      <th>1995</th>\n",
       "      <td>1</td>\n",
       "      <td>Codeforces Beta Round 1</td>\n",
       "      <td>FINISHED</td>\n",
       "      <td>7200</td>\n",
       "      <td>1266580800</td>\n",
       "    </tr>\n",
       "  </tbody>\n",
       "</table>\n",
       "<p>1996 rows × 5 columns</p>\n",
       "</div>"
      ],
      "text/plain": [
       "        id                                               name     phase  \\\n",
       "0     2101                          Codeforces Round (Div. 1)    BEFORE   \n",
       "1     2102                          Codeforces Round (Div. 2)    BEFORE   \n",
       "2     2099                          Codeforces Round (Div. 1)    BEFORE   \n",
       "3     2100                          Codeforces Round (Div. 2)    BEFORE   \n",
       "4     2104  Educational Codeforces Round 178 (Rated for Di...    BEFORE   \n",
       "...    ...                                                ...       ...   \n",
       "1991     5                            Codeforces Beta Round 5  FINISHED   \n",
       "1992     4              Codeforces Beta Round 4 (Div. 2 Only)  FINISHED   \n",
       "1993     3                            Codeforces Beta Round 3  FINISHED   \n",
       "1994     2                            Codeforces Beta Round 2  FINISHED   \n",
       "1995     1                            Codeforces Beta Round 1  FINISHED   \n",
       "\n",
       "      durationSeconds  startTimeSeconds  \n",
       "0                9000        1746974100  \n",
       "1                9000        1746974100  \n",
       "2                7200        1746261300  \n",
       "3                7200        1746261300  \n",
       "4                7200        1745850900  \n",
       "...               ...               ...  \n",
       "1991             7200        1269100800  \n",
       "1992             7200        1268395200  \n",
       "1993             7200        1267963200  \n",
       "1994             7200        1267117200  \n",
       "1995             7200        1266580800  \n",
       "\n",
       "[1996 rows x 5 columns]"
      ]
     },
     "execution_count": 111,
     "metadata": {},
     "output_type": "execute_result"
    }
   ],
   "source": [
    "contest_required_data = pd.read_csv('../Dataset/contests.csv')\n",
    "contest_required_data"
   ]
  },
  {
   "cell_type": "code",
   "execution_count": 112,
   "id": "68b63618",
   "metadata": {},
   "outputs": [],
   "source": [
    "merged_data = pd.merge(contest_data, contest_required_data[['id', 'startTimeSeconds']], left_on='contestId', right_on='id', how='left')\n",
    "contest_data['startTimeSeconds'] = merged_data['startTimeSeconds']\n"
   ]
  },
  {
   "cell_type": "code",
   "execution_count": 113,
   "id": "ed6719e9",
   "metadata": {},
   "outputs": [
    {
     "data": {
      "application/vnd.microsoft.datawrangler.viewer.v0+json": {
       "columns": [
        {
         "name": "index",
         "rawType": "int64",
         "type": "integer"
        },
        {
         "name": "contestId",
         "rawType": "int64",
         "type": "integer"
        },
        {
         "name": "handle",
         "rawType": "object",
         "type": "string"
        },
        {
         "name": "rank",
         "rawType": "int64",
         "type": "integer"
        },
        {
         "name": "oldRating",
         "rawType": "int64",
         "type": "integer"
        },
        {
         "name": "newRating",
         "rawType": "int64",
         "type": "integer"
        },
        {
         "name": "startTimeSeconds",
         "rawType": "int64",
         "type": "integer"
        }
       ],
       "conversionMethod": "pd.DataFrame",
       "ref": "75675291-df4e-4839-8c16-1838a5655e04",
       "rows": [
        [
         "0",
         "2070",
         "kingshukpatra11",
         "4024",
         "0",
         "511",
         "1740666900"
        ],
        [
         "1",
         "2071",
         "kingshukpatra11",
         "6753",
         "511",
         "820",
         "1740753300"
        ],
        [
         "2",
         "2078",
         "kingshukpatra11",
         "6913",
         "820",
         "1027",
         "1741617900"
        ],
        [
         "3",
         "2074",
         "kingshukpatra11",
         "1589",
         "1027",
         "1250",
         "1741703700"
        ],
        [
         "4",
         "2075",
         "kingshukpatra11",
         "1076",
         "1250",
         "1473",
         "1742222100"
        ],
        [
         "5",
         "2091",
         "kingshukpatra11",
         "1692",
         "1473",
         "1537",
         "1742913300"
        ]
       ],
       "shape": {
        "columns": 6,
        "rows": 6
       }
      },
      "text/html": [
       "<div>\n",
       "<style scoped>\n",
       "    .dataframe tbody tr th:only-of-type {\n",
       "        vertical-align: middle;\n",
       "    }\n",
       "\n",
       "    .dataframe tbody tr th {\n",
       "        vertical-align: top;\n",
       "    }\n",
       "\n",
       "    .dataframe thead th {\n",
       "        text-align: right;\n",
       "    }\n",
       "</style>\n",
       "<table border=\"1\" class=\"dataframe\">\n",
       "  <thead>\n",
       "    <tr style=\"text-align: right;\">\n",
       "      <th></th>\n",
       "      <th>contestId</th>\n",
       "      <th>handle</th>\n",
       "      <th>rank</th>\n",
       "      <th>oldRating</th>\n",
       "      <th>newRating</th>\n",
       "      <th>startTimeSeconds</th>\n",
       "    </tr>\n",
       "  </thead>\n",
       "  <tbody>\n",
       "    <tr>\n",
       "      <th>0</th>\n",
       "      <td>2070</td>\n",
       "      <td>kingshukpatra11</td>\n",
       "      <td>4024</td>\n",
       "      <td>0</td>\n",
       "      <td>511</td>\n",
       "      <td>1740666900</td>\n",
       "    </tr>\n",
       "    <tr>\n",
       "      <th>1</th>\n",
       "      <td>2071</td>\n",
       "      <td>kingshukpatra11</td>\n",
       "      <td>6753</td>\n",
       "      <td>511</td>\n",
       "      <td>820</td>\n",
       "      <td>1740753300</td>\n",
       "    </tr>\n",
       "    <tr>\n",
       "      <th>2</th>\n",
       "      <td>2078</td>\n",
       "      <td>kingshukpatra11</td>\n",
       "      <td>6913</td>\n",
       "      <td>820</td>\n",
       "      <td>1027</td>\n",
       "      <td>1741617900</td>\n",
       "    </tr>\n",
       "    <tr>\n",
       "      <th>3</th>\n",
       "      <td>2074</td>\n",
       "      <td>kingshukpatra11</td>\n",
       "      <td>1589</td>\n",
       "      <td>1027</td>\n",
       "      <td>1250</td>\n",
       "      <td>1741703700</td>\n",
       "    </tr>\n",
       "    <tr>\n",
       "      <th>4</th>\n",
       "      <td>2075</td>\n",
       "      <td>kingshukpatra11</td>\n",
       "      <td>1076</td>\n",
       "      <td>1250</td>\n",
       "      <td>1473</td>\n",
       "      <td>1742222100</td>\n",
       "    </tr>\n",
       "    <tr>\n",
       "      <th>5</th>\n",
       "      <td>2091</td>\n",
       "      <td>kingshukpatra11</td>\n",
       "      <td>1692</td>\n",
       "      <td>1473</td>\n",
       "      <td>1537</td>\n",
       "      <td>1742913300</td>\n",
       "    </tr>\n",
       "  </tbody>\n",
       "</table>\n",
       "</div>"
      ],
      "text/plain": [
       "   contestId           handle  rank  oldRating  newRating  startTimeSeconds\n",
       "0       2070  kingshukpatra11  4024          0        511        1740666900\n",
       "1       2071  kingshukpatra11  6753        511        820        1740753300\n",
       "2       2078  kingshukpatra11  6913        820       1027        1741617900\n",
       "3       2074  kingshukpatra11  1589       1027       1250        1741703700\n",
       "4       2075  kingshukpatra11  1076       1250       1473        1742222100\n",
       "5       2091  kingshukpatra11  1692       1473       1537        1742913300"
      ]
     },
     "execution_count": 113,
     "metadata": {},
     "output_type": "execute_result"
    }
   ],
   "source": [
    "contest_data"
   ]
  },
  {
   "cell_type": "code",
   "execution_count": null,
   "id": "b95db159",
   "metadata": {},
   "outputs": [],
   "source": [
    "from collections import Counter\n",
    "\n",
    "# Ensure 'tags' are always lists\n",
    "combined_submission_data['tags'] = combined_submission_data['tags'].apply(lambda x: x if isinstance(x, list) else [])\n",
    "\n",
    "# Only count accepted submissions\n",
    "combined_submission_data_ok = combined_submission_data[combined_submission_data['verdict'] == 'OK']\n",
    "\n",
    "# All tags ever seen in OK submissions\n",
    "all_tags = set(tag for tags in combined_submission_data_ok['tags'] for tag in tags)\n",
    "\n",
    "# Final rows to collect enriched contest info\n",
    "final_rows = []\n",
    "\n",
    "for _, row in contest_data.iterrows():\n",
    "    contest_time = row['startTimeSeconds']\n",
    "    \n",
    "    # Submissions before this contest\n",
    "    prior_subs = combined_submission_data[combined_submission_data['creationTimeSeconds'] < contest_time]\n",
    "    total_subs = len(prior_subs)\n",
    "    \n",
    "    # Accepted submissions before this contest\n",
    "    prior_ok = combined_submission_data_ok[combined_submission_data_ok['creationTimeSeconds'] < contest_time]\n",
    "    accepted_count = len(prior_ok)\n",
    "    \n",
    "    # Acceptance rate\n",
    "    acceptance_rate = accepted_count / total_subs if total_subs > 0 else 0.0\n",
    "    \n",
    "    # Average rating of accepted submissions\n",
    "    avg_rating = prior_ok['rating'].dropna().mean() if not prior_ok.empty else 0.0\n",
    "    \n",
    "    # Count tags\n",
    "    tag_counter = Counter()\n",
    "    for tags in prior_ok['tags']:\n",
    "        tag_counter.update(tags)\n",
    "    \n",
    "    # Build row with contest data + new features\n",
    "    enriched = row.to_dict()\n",
    "    enriched['acceptance_rate'] = acceptance_rate\n",
    "    enriched['avg_rating'] = avg_rating\n",
    "    \n",
    "    for tag in all_tags:\n",
    "        enriched[tag] = tag_counter.get(tag, 0)\n",
    "    \n",
    "    final_rows.append(enriched)\n",
    "\n",
    "# Final enriched DataFrame\n",
    "final_df = pd.DataFrame(final_rows)\n"
   ]
  },
  {
   "cell_type": "markdown",
   "id": "5ca90dd5",
   "metadata": {},
   "source": [
    "## So finally\n",
    "#### We have here build the data for a single user which consists the data of one user's submission, rank in that contest, old rating, new rating, start time of the contest, accuracy rate of problems solved till it, avg rating of problems solved till that and the count of problems solved under each tags till date"
   ]
  },
  {
   "cell_type": "code",
   "execution_count": 116,
   "id": "c02442ae",
   "metadata": {},
   "outputs": [
    {
     "data": {
      "application/vnd.microsoft.datawrangler.viewer.v0+json": {
       "columns": [
        {
         "name": "index",
         "rawType": "int64",
         "type": "integer"
        },
        {
         "name": "contestId",
         "rawType": "int64",
         "type": "integer"
        },
        {
         "name": "handle",
         "rawType": "object",
         "type": "string"
        },
        {
         "name": "rank",
         "rawType": "int64",
         "type": "integer"
        },
        {
         "name": "oldRating",
         "rawType": "int64",
         "type": "integer"
        },
        {
         "name": "newRating",
         "rawType": "int64",
         "type": "integer"
        },
        {
         "name": "startTimeSeconds",
         "rawType": "int64",
         "type": "integer"
        },
        {
         "name": "acceptance_rate",
         "rawType": "float64",
         "type": "float"
        },
        {
         "name": "avg_rating",
         "rawType": "float64",
         "type": "float"
        },
        {
         "name": "strings",
         "rawType": "int64",
         "type": "integer"
        },
        {
         "name": "schedules",
         "rawType": "int64",
         "type": "integer"
        },
        {
         "name": "greedy",
         "rawType": "int64",
         "type": "integer"
        },
        {
         "name": "constructive algorithms",
         "rawType": "int64",
         "type": "integer"
        },
        {
         "name": "interactive",
         "rawType": "int64",
         "type": "integer"
        },
        {
         "name": "probabilities",
         "rawType": "int64",
         "type": "integer"
        },
        {
         "name": "graph matchings",
         "rawType": "int64",
         "type": "integer"
        },
        {
         "name": "divide and conquer",
         "rawType": "int64",
         "type": "integer"
        },
        {
         "name": "geometry",
         "rawType": "int64",
         "type": "integer"
        },
        {
         "name": "graphs",
         "rawType": "int64",
         "type": "integer"
        },
        {
         "name": "dsu",
         "rawType": "int64",
         "type": "integer"
        },
        {
         "name": "hashing",
         "rawType": "int64",
         "type": "integer"
        },
        {
         "name": "brute force",
         "rawType": "int64",
         "type": "integer"
        },
        {
         "name": "number theory",
         "rawType": "int64",
         "type": "integer"
        },
        {
         "name": "bitmasks",
         "rawType": "int64",
         "type": "integer"
        },
        {
         "name": "trees",
         "rawType": "int64",
         "type": "integer"
        },
        {
         "name": "sortings",
         "rawType": "int64",
         "type": "integer"
        },
        {
         "name": "data structures",
         "rawType": "int64",
         "type": "integer"
        },
        {
         "name": "combinatorics",
         "rawType": "int64",
         "type": "integer"
        },
        {
         "name": "math",
         "rawType": "int64",
         "type": "integer"
        },
        {
         "name": "dp",
         "rawType": "int64",
         "type": "integer"
        },
        {
         "name": "2-sat",
         "rawType": "int64",
         "type": "integer"
        },
        {
         "name": "dfs and similar",
         "rawType": "int64",
         "type": "integer"
        },
        {
         "name": "binary search",
         "rawType": "int64",
         "type": "integer"
        },
        {
         "name": "fft",
         "rawType": "int64",
         "type": "integer"
        },
        {
         "name": "two pointers",
         "rawType": "int64",
         "type": "integer"
        },
        {
         "name": "implementation",
         "rawType": "int64",
         "type": "integer"
        }
       ],
       "conversionMethod": "pd.DataFrame",
       "ref": "466e380d-9e3e-4027-8835-4a6d7f022f87",
       "rows": [
        [
         "0",
         "2070",
         "kingshukpatra11",
         "4024",
         "0",
         "511",
         "1740666900",
         "0.4426229508196721",
         "1225.9259259259259",
         "4",
         "0",
         "15",
         "6",
         "1",
         "0",
         "0",
         "1",
         "0",
         "2",
         "0",
         "0",
         "8",
         "4",
         "1",
         "1",
         "5",
         "3",
         "2",
         "11",
         "7",
         "0",
         "2",
         "2",
         "0",
         "4",
         "6"
        ],
        [
         "1",
         "2071",
         "kingshukpatra11",
         "6753",
         "511",
         "820",
         "1740753300",
         "0.463768115942029",
         "1231.25",
         "4",
         "0",
         "16",
         "6",
         "1",
         "0",
         "0",
         "1",
         "0",
         "2",
         "0",
         "0",
         "10",
         "4",
         "1",
         "2",
         "5",
         "3",
         "2",
         "14",
         "9",
         "0",
         "3",
         "3",
         "0",
         "4",
         "7"
        ],
        [
         "2",
         "2078",
         "kingshukpatra11",
         "6913",
         "820",
         "1027",
         "1741617900",
         "0.4880952380952381",
         "1300.0",
         "4",
         "0",
         "20",
         "9",
         "1",
         "0",
         "0",
         "1",
         "0",
         "3",
         "1",
         "0",
         "11",
         "7",
         "3",
         "3",
         "7",
         "5",
         "4",
         "19",
         "11",
         "1",
         "5",
         "3",
         "1",
         "4",
         "8"
        ],
        [
         "3",
         "2074",
         "kingshukpatra11",
         "1589",
         "1027",
         "1250",
         "1741703700",
         "0.4945054945054945",
         "1306.6666666666667",
         "4",
         "0",
         "22",
         "10",
         "1",
         "0",
         "0",
         "1",
         "0",
         "4",
         "1",
         "0",
         "12",
         "7",
         "4",
         "3",
         "7",
         "5",
         "4",
         "22",
         "13",
         "1",
         "5",
         "3",
         "1",
         "4",
         "11"
        ],
        [
         "4",
         "2075",
         "kingshukpatra11",
         "1076",
         "1250",
         "1473",
         "1742222100",
         "0.5454545454545454",
         "1333.3333333333333",
         "5",
         "1",
         "42",
         "13",
         "1",
         "1",
         "1",
         "2",
         "4",
         "6",
         "2",
         "1",
         "17",
         "13",
         "10",
         "7",
         "12",
         "12",
         "7",
         "39",
         "20",
         "2",
         "7",
         "12",
         "1",
         "10",
         "14"
        ],
        [
         "5",
         "2091",
         "kingshukpatra11",
         "1692",
         "1473",
         "1537",
         "1742913300",
         "0.5506329113924051",
         "1337.9310344827586",
         "6",
         "1",
         "45",
         "14",
         "2",
         "2",
         "1",
         "2",
         "5",
         "7",
         "2",
         "1",
         "18",
         "13",
         "11",
         "7",
         "13",
         "13",
         "8",
         "42",
         "23",
         "2",
         "7",
         "13",
         "1",
         "11",
         "15"
        ]
       ],
       "shape": {
        "columns": 35,
        "rows": 6
       }
      },
      "text/html": [
       "<div>\n",
       "<style scoped>\n",
       "    .dataframe tbody tr th:only-of-type {\n",
       "        vertical-align: middle;\n",
       "    }\n",
       "\n",
       "    .dataframe tbody tr th {\n",
       "        vertical-align: top;\n",
       "    }\n",
       "\n",
       "    .dataframe thead th {\n",
       "        text-align: right;\n",
       "    }\n",
       "</style>\n",
       "<table border=\"1\" class=\"dataframe\">\n",
       "  <thead>\n",
       "    <tr style=\"text-align: right;\">\n",
       "      <th></th>\n",
       "      <th>contestId</th>\n",
       "      <th>handle</th>\n",
       "      <th>rank</th>\n",
       "      <th>oldRating</th>\n",
       "      <th>newRating</th>\n",
       "      <th>startTimeSeconds</th>\n",
       "      <th>acceptance_rate</th>\n",
       "      <th>avg_rating</th>\n",
       "      <th>strings</th>\n",
       "      <th>schedules</th>\n",
       "      <th>...</th>\n",
       "      <th>data structures</th>\n",
       "      <th>combinatorics</th>\n",
       "      <th>math</th>\n",
       "      <th>dp</th>\n",
       "      <th>2-sat</th>\n",
       "      <th>dfs and similar</th>\n",
       "      <th>binary search</th>\n",
       "      <th>fft</th>\n",
       "      <th>two pointers</th>\n",
       "      <th>implementation</th>\n",
       "    </tr>\n",
       "  </thead>\n",
       "  <tbody>\n",
       "    <tr>\n",
       "      <th>0</th>\n",
       "      <td>2070</td>\n",
       "      <td>kingshukpatra11</td>\n",
       "      <td>4024</td>\n",
       "      <td>0</td>\n",
       "      <td>511</td>\n",
       "      <td>1740666900</td>\n",
       "      <td>0.442623</td>\n",
       "      <td>1225.925926</td>\n",
       "      <td>4</td>\n",
       "      <td>0</td>\n",
       "      <td>...</td>\n",
       "      <td>3</td>\n",
       "      <td>2</td>\n",
       "      <td>11</td>\n",
       "      <td>7</td>\n",
       "      <td>0</td>\n",
       "      <td>2</td>\n",
       "      <td>2</td>\n",
       "      <td>0</td>\n",
       "      <td>4</td>\n",
       "      <td>6</td>\n",
       "    </tr>\n",
       "    <tr>\n",
       "      <th>1</th>\n",
       "      <td>2071</td>\n",
       "      <td>kingshukpatra11</td>\n",
       "      <td>6753</td>\n",
       "      <td>511</td>\n",
       "      <td>820</td>\n",
       "      <td>1740753300</td>\n",
       "      <td>0.463768</td>\n",
       "      <td>1231.250000</td>\n",
       "      <td>4</td>\n",
       "      <td>0</td>\n",
       "      <td>...</td>\n",
       "      <td>3</td>\n",
       "      <td>2</td>\n",
       "      <td>14</td>\n",
       "      <td>9</td>\n",
       "      <td>0</td>\n",
       "      <td>3</td>\n",
       "      <td>3</td>\n",
       "      <td>0</td>\n",
       "      <td>4</td>\n",
       "      <td>7</td>\n",
       "    </tr>\n",
       "    <tr>\n",
       "      <th>2</th>\n",
       "      <td>2078</td>\n",
       "      <td>kingshukpatra11</td>\n",
       "      <td>6913</td>\n",
       "      <td>820</td>\n",
       "      <td>1027</td>\n",
       "      <td>1741617900</td>\n",
       "      <td>0.488095</td>\n",
       "      <td>1300.000000</td>\n",
       "      <td>4</td>\n",
       "      <td>0</td>\n",
       "      <td>...</td>\n",
       "      <td>5</td>\n",
       "      <td>4</td>\n",
       "      <td>19</td>\n",
       "      <td>11</td>\n",
       "      <td>1</td>\n",
       "      <td>5</td>\n",
       "      <td>3</td>\n",
       "      <td>1</td>\n",
       "      <td>4</td>\n",
       "      <td>8</td>\n",
       "    </tr>\n",
       "    <tr>\n",
       "      <th>3</th>\n",
       "      <td>2074</td>\n",
       "      <td>kingshukpatra11</td>\n",
       "      <td>1589</td>\n",
       "      <td>1027</td>\n",
       "      <td>1250</td>\n",
       "      <td>1741703700</td>\n",
       "      <td>0.494505</td>\n",
       "      <td>1306.666667</td>\n",
       "      <td>4</td>\n",
       "      <td>0</td>\n",
       "      <td>...</td>\n",
       "      <td>5</td>\n",
       "      <td>4</td>\n",
       "      <td>22</td>\n",
       "      <td>13</td>\n",
       "      <td>1</td>\n",
       "      <td>5</td>\n",
       "      <td>3</td>\n",
       "      <td>1</td>\n",
       "      <td>4</td>\n",
       "      <td>11</td>\n",
       "    </tr>\n",
       "    <tr>\n",
       "      <th>4</th>\n",
       "      <td>2075</td>\n",
       "      <td>kingshukpatra11</td>\n",
       "      <td>1076</td>\n",
       "      <td>1250</td>\n",
       "      <td>1473</td>\n",
       "      <td>1742222100</td>\n",
       "      <td>0.545455</td>\n",
       "      <td>1333.333333</td>\n",
       "      <td>5</td>\n",
       "      <td>1</td>\n",
       "      <td>...</td>\n",
       "      <td>12</td>\n",
       "      <td>7</td>\n",
       "      <td>39</td>\n",
       "      <td>20</td>\n",
       "      <td>2</td>\n",
       "      <td>7</td>\n",
       "      <td>12</td>\n",
       "      <td>1</td>\n",
       "      <td>10</td>\n",
       "      <td>14</td>\n",
       "    </tr>\n",
       "    <tr>\n",
       "      <th>5</th>\n",
       "      <td>2091</td>\n",
       "      <td>kingshukpatra11</td>\n",
       "      <td>1692</td>\n",
       "      <td>1473</td>\n",
       "      <td>1537</td>\n",
       "      <td>1742913300</td>\n",
       "      <td>0.550633</td>\n",
       "      <td>1337.931034</td>\n",
       "      <td>6</td>\n",
       "      <td>1</td>\n",
       "      <td>...</td>\n",
       "      <td>13</td>\n",
       "      <td>8</td>\n",
       "      <td>42</td>\n",
       "      <td>23</td>\n",
       "      <td>2</td>\n",
       "      <td>7</td>\n",
       "      <td>13</td>\n",
       "      <td>1</td>\n",
       "      <td>11</td>\n",
       "      <td>15</td>\n",
       "    </tr>\n",
       "  </tbody>\n",
       "</table>\n",
       "<p>6 rows × 35 columns</p>\n",
       "</div>"
      ],
      "text/plain": [
       "   contestId           handle  rank  oldRating  newRating  startTimeSeconds  \\\n",
       "0       2070  kingshukpatra11  4024          0        511        1740666900   \n",
       "1       2071  kingshukpatra11  6753        511        820        1740753300   \n",
       "2       2078  kingshukpatra11  6913        820       1027        1741617900   \n",
       "3       2074  kingshukpatra11  1589       1027       1250        1741703700   \n",
       "4       2075  kingshukpatra11  1076       1250       1473        1742222100   \n",
       "5       2091  kingshukpatra11  1692       1473       1537        1742913300   \n",
       "\n",
       "   acceptance_rate   avg_rating  strings  schedules  ...  data structures  \\\n",
       "0         0.442623  1225.925926        4          0  ...                3   \n",
       "1         0.463768  1231.250000        4          0  ...                3   \n",
       "2         0.488095  1300.000000        4          0  ...                5   \n",
       "3         0.494505  1306.666667        4          0  ...                5   \n",
       "4         0.545455  1333.333333        5          1  ...               12   \n",
       "5         0.550633  1337.931034        6          1  ...               13   \n",
       "\n",
       "   combinatorics  math  dp  2-sat  dfs and similar  binary search  fft  \\\n",
       "0              2    11   7      0                2              2    0   \n",
       "1              2    14   9      0                3              3    0   \n",
       "2              4    19  11      1                5              3    1   \n",
       "3              4    22  13      1                5              3    1   \n",
       "4              7    39  20      2                7             12    1   \n",
       "5              8    42  23      2                7             13    1   \n",
       "\n",
       "   two pointers  implementation  \n",
       "0             4               6  \n",
       "1             4               7  \n",
       "2             4               8  \n",
       "3             4              11  \n",
       "4            10              14  \n",
       "5            11              15  \n",
       "\n",
       "[6 rows x 35 columns]"
      ]
     },
     "execution_count": 116,
     "metadata": {},
     "output_type": "execute_result"
    }
   ],
   "source": [
    "final_df"
   ]
  },
  {
   "cell_type": "markdown",
   "id": "e4ce1054",
   "metadata": {},
   "source": [
    "## Next Target:\n",
    "#### We Need to make a function that would do this work for any user for that given userId and return the dataframe so that we can build the whole data"
   ]
  },
  {
   "cell_type": "code",
   "execution_count": null,
   "id": "1c3f2fd7",
   "metadata": {},
   "outputs": [],
   "source": []
  }
 ],
 "metadata": {
  "kernelspec": {
   "display_name": ".venv",
   "language": "python",
   "name": "python3"
  },
  "language_info": {
   "codemirror_mode": {
    "name": "ipython",
    "version": 3
   },
   "file_extension": ".py",
   "mimetype": "text/x-python",
   "name": "python",
   "nbconvert_exporter": "python",
   "pygments_lexer": "ipython3",
   "version": "3.13.1"
  }
 },
 "nbformat": 4,
 "nbformat_minor": 5
}
